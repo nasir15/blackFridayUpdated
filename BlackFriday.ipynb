{
 "cells": [
  {
   "cell_type": "code",
   "execution_count": 1,
   "metadata": {},
   "outputs": [],
   "source": [
    "#First we import some necessary libraries like pandas and numpy\n",
    "import pandas as pd\n",
    "import numpy as np"
   ]
  },
  {
   "cell_type": "code",
   "execution_count": 2,
   "metadata": {},
   "outputs": [],
   "source": [
    "#load our csv files in pandas data frames\n",
    "dftrain=pd.read_csv('trainblack.csv')\n",
    "dftest=pd.read_csv('testblack.csv')"
   ]
  },
  {
   "cell_type": "code",
   "execution_count": 3,
   "metadata": {},
   "outputs": [
    {
     "data": {
      "text/html": [
       "<div>\n",
       "<style scoped>\n",
       "    .dataframe tbody tr th:only-of-type {\n",
       "        vertical-align: middle;\n",
       "    }\n",
       "\n",
       "    .dataframe tbody tr th {\n",
       "        vertical-align: top;\n",
       "    }\n",
       "\n",
       "    .dataframe thead th {\n",
       "        text-align: right;\n",
       "    }\n",
       "</style>\n",
       "<table border=\"1\" class=\"dataframe\">\n",
       "  <thead>\n",
       "    <tr style=\"text-align: right;\">\n",
       "      <th></th>\n",
       "      <th>User_ID</th>\n",
       "      <th>Product_ID</th>\n",
       "      <th>Gender</th>\n",
       "      <th>Age</th>\n",
       "      <th>Occupation</th>\n",
       "      <th>City_Category</th>\n",
       "      <th>Stay_In_Current_City_Years</th>\n",
       "      <th>Marital_Status</th>\n",
       "      <th>Product_Category_1</th>\n",
       "      <th>Product_Category_2</th>\n",
       "      <th>Product_Category_3</th>\n",
       "      <th>Purchase</th>\n",
       "    </tr>\n",
       "  </thead>\n",
       "  <tbody>\n",
       "    <tr>\n",
       "      <th>0</th>\n",
       "      <td>1000001</td>\n",
       "      <td>P00069042</td>\n",
       "      <td>F</td>\n",
       "      <td>0-17</td>\n",
       "      <td>10</td>\n",
       "      <td>A</td>\n",
       "      <td>2</td>\n",
       "      <td>0</td>\n",
       "      <td>3</td>\n",
       "      <td>NaN</td>\n",
       "      <td>NaN</td>\n",
       "      <td>8370</td>\n",
       "    </tr>\n",
       "    <tr>\n",
       "      <th>1</th>\n",
       "      <td>1000001</td>\n",
       "      <td>P00248942</td>\n",
       "      <td>F</td>\n",
       "      <td>0-17</td>\n",
       "      <td>10</td>\n",
       "      <td>A</td>\n",
       "      <td>2</td>\n",
       "      <td>0</td>\n",
       "      <td>1</td>\n",
       "      <td>6.0</td>\n",
       "      <td>14.0</td>\n",
       "      <td>15200</td>\n",
       "    </tr>\n",
       "    <tr>\n",
       "      <th>2</th>\n",
       "      <td>1000001</td>\n",
       "      <td>P00087842</td>\n",
       "      <td>F</td>\n",
       "      <td>0-17</td>\n",
       "      <td>10</td>\n",
       "      <td>A</td>\n",
       "      <td>2</td>\n",
       "      <td>0</td>\n",
       "      <td>12</td>\n",
       "      <td>NaN</td>\n",
       "      <td>NaN</td>\n",
       "      <td>1422</td>\n",
       "    </tr>\n",
       "    <tr>\n",
       "      <th>3</th>\n",
       "      <td>1000001</td>\n",
       "      <td>P00085442</td>\n",
       "      <td>F</td>\n",
       "      <td>0-17</td>\n",
       "      <td>10</td>\n",
       "      <td>A</td>\n",
       "      <td>2</td>\n",
       "      <td>0</td>\n",
       "      <td>12</td>\n",
       "      <td>14.0</td>\n",
       "      <td>NaN</td>\n",
       "      <td>1057</td>\n",
       "    </tr>\n",
       "    <tr>\n",
       "      <th>4</th>\n",
       "      <td>1000002</td>\n",
       "      <td>P00285442</td>\n",
       "      <td>M</td>\n",
       "      <td>55+</td>\n",
       "      <td>16</td>\n",
       "      <td>C</td>\n",
       "      <td>4+</td>\n",
       "      <td>0</td>\n",
       "      <td>8</td>\n",
       "      <td>NaN</td>\n",
       "      <td>NaN</td>\n",
       "      <td>7969</td>\n",
       "    </tr>\n",
       "  </tbody>\n",
       "</table>\n",
       "</div>"
      ],
      "text/plain": [
       "   User_ID Product_ID Gender   Age  Occupation City_Category  \\\n",
       "0  1000001  P00069042      F  0-17          10             A   \n",
       "1  1000001  P00248942      F  0-17          10             A   \n",
       "2  1000001  P00087842      F  0-17          10             A   \n",
       "3  1000001  P00085442      F  0-17          10             A   \n",
       "4  1000002  P00285442      M   55+          16             C   \n",
       "\n",
       "  Stay_In_Current_City_Years  Marital_Status  Product_Category_1  \\\n",
       "0                          2               0                   3   \n",
       "1                          2               0                   1   \n",
       "2                          2               0                  12   \n",
       "3                          2               0                  12   \n",
       "4                         4+               0                   8   \n",
       "\n",
       "   Product_Category_2  Product_Category_3  Purchase  \n",
       "0                 NaN                 NaN      8370  \n",
       "1                 6.0                14.0     15200  \n",
       "2                 NaN                 NaN      1422  \n",
       "3                14.0                 NaN      1057  \n",
       "4                 NaN                 NaN      7969  "
      ]
     },
     "execution_count": 3,
     "metadata": {},
     "output_type": "execute_result"
    }
   ],
   "source": [
    "#check head of the train dataset\n",
    "dftrain.head()"
   ]
  },
  {
   "cell_type": "code",
   "execution_count": 4,
   "metadata": {},
   "outputs": [
    {
     "data": {
      "text/html": [
       "<div>\n",
       "<style scoped>\n",
       "    .dataframe tbody tr th:only-of-type {\n",
       "        vertical-align: middle;\n",
       "    }\n",
       "\n",
       "    .dataframe tbody tr th {\n",
       "        vertical-align: top;\n",
       "    }\n",
       "\n",
       "    .dataframe thead th {\n",
       "        text-align: right;\n",
       "    }\n",
       "</style>\n",
       "<table border=\"1\" class=\"dataframe\">\n",
       "  <thead>\n",
       "    <tr style=\"text-align: right;\">\n",
       "      <th></th>\n",
       "      <th>User_ID</th>\n",
       "      <th>Product_ID</th>\n",
       "      <th>Gender</th>\n",
       "      <th>Age</th>\n",
       "      <th>Occupation</th>\n",
       "      <th>City_Category</th>\n",
       "      <th>Stay_In_Current_City_Years</th>\n",
       "      <th>Marital_Status</th>\n",
       "      <th>Product_Category_1</th>\n",
       "      <th>Product_Category_2</th>\n",
       "      <th>Product_Category_3</th>\n",
       "    </tr>\n",
       "  </thead>\n",
       "  <tbody>\n",
       "    <tr>\n",
       "      <th>0</th>\n",
       "      <td>1000004</td>\n",
       "      <td>P00128942</td>\n",
       "      <td>M</td>\n",
       "      <td>46-50</td>\n",
       "      <td>7</td>\n",
       "      <td>B</td>\n",
       "      <td>2</td>\n",
       "      <td>1</td>\n",
       "      <td>1</td>\n",
       "      <td>11.0</td>\n",
       "      <td>NaN</td>\n",
       "    </tr>\n",
       "    <tr>\n",
       "      <th>1</th>\n",
       "      <td>1000009</td>\n",
       "      <td>P00113442</td>\n",
       "      <td>M</td>\n",
       "      <td>26-35</td>\n",
       "      <td>17</td>\n",
       "      <td>C</td>\n",
       "      <td>0</td>\n",
       "      <td>0</td>\n",
       "      <td>3</td>\n",
       "      <td>5.0</td>\n",
       "      <td>NaN</td>\n",
       "    </tr>\n",
       "    <tr>\n",
       "      <th>2</th>\n",
       "      <td>1000010</td>\n",
       "      <td>P00288442</td>\n",
       "      <td>F</td>\n",
       "      <td>36-45</td>\n",
       "      <td>1</td>\n",
       "      <td>B</td>\n",
       "      <td>4+</td>\n",
       "      <td>1</td>\n",
       "      <td>5</td>\n",
       "      <td>14.0</td>\n",
       "      <td>NaN</td>\n",
       "    </tr>\n",
       "    <tr>\n",
       "      <th>3</th>\n",
       "      <td>1000010</td>\n",
       "      <td>P00145342</td>\n",
       "      <td>F</td>\n",
       "      <td>36-45</td>\n",
       "      <td>1</td>\n",
       "      <td>B</td>\n",
       "      <td>4+</td>\n",
       "      <td>1</td>\n",
       "      <td>4</td>\n",
       "      <td>9.0</td>\n",
       "      <td>NaN</td>\n",
       "    </tr>\n",
       "    <tr>\n",
       "      <th>4</th>\n",
       "      <td>1000011</td>\n",
       "      <td>P00053842</td>\n",
       "      <td>F</td>\n",
       "      <td>26-35</td>\n",
       "      <td>1</td>\n",
       "      <td>C</td>\n",
       "      <td>1</td>\n",
       "      <td>0</td>\n",
       "      <td>4</td>\n",
       "      <td>5.0</td>\n",
       "      <td>12.0</td>\n",
       "    </tr>\n",
       "  </tbody>\n",
       "</table>\n",
       "</div>"
      ],
      "text/plain": [
       "   User_ID Product_ID Gender    Age  Occupation City_Category  \\\n",
       "0  1000004  P00128942      M  46-50           7             B   \n",
       "1  1000009  P00113442      M  26-35          17             C   \n",
       "2  1000010  P00288442      F  36-45           1             B   \n",
       "3  1000010  P00145342      F  36-45           1             B   \n",
       "4  1000011  P00053842      F  26-35           1             C   \n",
       "\n",
       "  Stay_In_Current_City_Years  Marital_Status  Product_Category_1  \\\n",
       "0                          2               1                   1   \n",
       "1                          0               0                   3   \n",
       "2                         4+               1                   5   \n",
       "3                         4+               1                   4   \n",
       "4                          1               0                   4   \n",
       "\n",
       "   Product_Category_2  Product_Category_3  \n",
       "0                11.0                 NaN  \n",
       "1                 5.0                 NaN  \n",
       "2                14.0                 NaN  \n",
       "3                 9.0                 NaN  \n",
       "4                 5.0                12.0  "
      ]
     },
     "execution_count": 4,
     "metadata": {},
     "output_type": "execute_result"
    }
   ],
   "source": [
    "#check head of the test dataset\n",
    "dftest.head()"
   ]
  },
  {
   "cell_type": "code",
   "execution_count": 5,
   "metadata": {},
   "outputs": [
    {
     "data": {
      "text/plain": [
       "(550068, 12)"
      ]
     },
     "execution_count": 5,
     "metadata": {},
     "output_type": "execute_result"
    }
   ],
   "source": [
    "#check shape of the train data set (How many rows and columns)\n",
    "dftrain.shape"
   ]
  },
  {
   "cell_type": "code",
   "execution_count": 6,
   "metadata": {},
   "outputs": [
    {
     "data": {
      "text/plain": [
       "(233599, 11)"
      ]
     },
     "execution_count": 6,
     "metadata": {},
     "output_type": "execute_result"
    }
   ],
   "source": [
    "#check shape of the test data set (How many rows and columns)\n",
    "dftest.shape"
   ]
  },
  {
   "cell_type": "code",
   "execution_count": 7,
   "metadata": {},
   "outputs": [
    {
     "name": "stdout",
     "output_type": "stream",
     "text": [
      "<class 'pandas.core.frame.DataFrame'>\n",
      "RangeIndex: 550068 entries, 0 to 550067\n",
      "Data columns (total 12 columns):\n",
      "User_ID                       550068 non-null int64\n",
      "Product_ID                    550068 non-null object\n",
      "Gender                        550068 non-null object\n",
      "Age                           550068 non-null object\n",
      "Occupation                    550068 non-null int64\n",
      "City_Category                 550068 non-null object\n",
      "Stay_In_Current_City_Years    550068 non-null object\n",
      "Marital_Status                550068 non-null int64\n",
      "Product_Category_1            550068 non-null int64\n",
      "Product_Category_2            376430 non-null float64\n",
      "Product_Category_3            166821 non-null float64\n",
      "Purchase                      550068 non-null int64\n",
      "dtypes: float64(2), int64(5), object(5)\n",
      "memory usage: 50.4+ MB\n"
     ]
    }
   ],
   "source": [
    "#check info of the train data\n",
    "dftrain.info()"
   ]
  },
  {
   "cell_type": "code",
   "execution_count": 8,
   "metadata": {},
   "outputs": [
    {
     "name": "stdout",
     "output_type": "stream",
     "text": [
      "<class 'pandas.core.frame.DataFrame'>\n",
      "RangeIndex: 233599 entries, 0 to 233598\n",
      "Data columns (total 11 columns):\n",
      "User_ID                       233599 non-null int64\n",
      "Product_ID                    233599 non-null object\n",
      "Gender                        233599 non-null object\n",
      "Age                           233599 non-null object\n",
      "Occupation                    233599 non-null int64\n",
      "City_Category                 233599 non-null object\n",
      "Stay_In_Current_City_Years    233599 non-null object\n",
      "Marital_Status                233599 non-null int64\n",
      "Product_Category_1            233599 non-null int64\n",
      "Product_Category_2            161255 non-null float64\n",
      "Product_Category_3            71037 non-null float64\n",
      "dtypes: float64(2), int64(4), object(5)\n",
      "memory usage: 19.6+ MB\n"
     ]
    }
   ],
   "source": [
    "#check info of the test data\n",
    "dftest.info()"
   ]
  },
  {
   "cell_type": "code",
   "execution_count": 9,
   "metadata": {},
   "outputs": [
    {
     "data": {
      "text/html": [
       "<div>\n",
       "<style scoped>\n",
       "    .dataframe tbody tr th:only-of-type {\n",
       "        vertical-align: middle;\n",
       "    }\n",
       "\n",
       "    .dataframe tbody tr th {\n",
       "        vertical-align: top;\n",
       "    }\n",
       "\n",
       "    .dataframe thead th {\n",
       "        text-align: right;\n",
       "    }\n",
       "</style>\n",
       "<table border=\"1\" class=\"dataframe\">\n",
       "  <thead>\n",
       "    <tr style=\"text-align: right;\">\n",
       "      <th></th>\n",
       "      <th>User_ID</th>\n",
       "      <th>Occupation</th>\n",
       "      <th>Marital_Status</th>\n",
       "      <th>Product_Category_1</th>\n",
       "      <th>Product_Category_2</th>\n",
       "      <th>Product_Category_3</th>\n",
       "    </tr>\n",
       "  </thead>\n",
       "  <tbody>\n",
       "    <tr>\n",
       "      <th>count</th>\n",
       "      <td>2.335990e+05</td>\n",
       "      <td>233599.000000</td>\n",
       "      <td>233599.000000</td>\n",
       "      <td>233599.000000</td>\n",
       "      <td>161255.000000</td>\n",
       "      <td>71037.000000</td>\n",
       "    </tr>\n",
       "    <tr>\n",
       "      <th>mean</th>\n",
       "      <td>1.003029e+06</td>\n",
       "      <td>8.085407</td>\n",
       "      <td>0.410070</td>\n",
       "      <td>5.276542</td>\n",
       "      <td>9.849586</td>\n",
       "      <td>12.669454</td>\n",
       "    </tr>\n",
       "    <tr>\n",
       "      <th>std</th>\n",
       "      <td>1.726505e+03</td>\n",
       "      <td>6.521146</td>\n",
       "      <td>0.491847</td>\n",
       "      <td>3.736380</td>\n",
       "      <td>5.094943</td>\n",
       "      <td>4.125944</td>\n",
       "    </tr>\n",
       "    <tr>\n",
       "      <th>min</th>\n",
       "      <td>1.000001e+06</td>\n",
       "      <td>0.000000</td>\n",
       "      <td>0.000000</td>\n",
       "      <td>1.000000</td>\n",
       "      <td>2.000000</td>\n",
       "      <td>3.000000</td>\n",
       "    </tr>\n",
       "    <tr>\n",
       "      <th>25%</th>\n",
       "      <td>1.001527e+06</td>\n",
       "      <td>2.000000</td>\n",
       "      <td>0.000000</td>\n",
       "      <td>1.000000</td>\n",
       "      <td>5.000000</td>\n",
       "      <td>9.000000</td>\n",
       "    </tr>\n",
       "    <tr>\n",
       "      <th>50%</th>\n",
       "      <td>1.003070e+06</td>\n",
       "      <td>7.000000</td>\n",
       "      <td>0.000000</td>\n",
       "      <td>5.000000</td>\n",
       "      <td>9.000000</td>\n",
       "      <td>14.000000</td>\n",
       "    </tr>\n",
       "    <tr>\n",
       "      <th>75%</th>\n",
       "      <td>1.004477e+06</td>\n",
       "      <td>14.000000</td>\n",
       "      <td>1.000000</td>\n",
       "      <td>8.000000</td>\n",
       "      <td>15.000000</td>\n",
       "      <td>16.000000</td>\n",
       "    </tr>\n",
       "    <tr>\n",
       "      <th>max</th>\n",
       "      <td>1.006040e+06</td>\n",
       "      <td>20.000000</td>\n",
       "      <td>1.000000</td>\n",
       "      <td>18.000000</td>\n",
       "      <td>18.000000</td>\n",
       "      <td>18.000000</td>\n",
       "    </tr>\n",
       "  </tbody>\n",
       "</table>\n",
       "</div>"
      ],
      "text/plain": [
       "            User_ID     Occupation  Marital_Status  Product_Category_1  \\\n",
       "count  2.335990e+05  233599.000000   233599.000000       233599.000000   \n",
       "mean   1.003029e+06       8.085407        0.410070            5.276542   \n",
       "std    1.726505e+03       6.521146        0.491847            3.736380   \n",
       "min    1.000001e+06       0.000000        0.000000            1.000000   \n",
       "25%    1.001527e+06       2.000000        0.000000            1.000000   \n",
       "50%    1.003070e+06       7.000000        0.000000            5.000000   \n",
       "75%    1.004477e+06      14.000000        1.000000            8.000000   \n",
       "max    1.006040e+06      20.000000        1.000000           18.000000   \n",
       "\n",
       "       Product_Category_2  Product_Category_3  \n",
       "count       161255.000000        71037.000000  \n",
       "mean             9.849586           12.669454  \n",
       "std              5.094943            4.125944  \n",
       "min              2.000000            3.000000  \n",
       "25%              5.000000            9.000000  \n",
       "50%              9.000000           14.000000  \n",
       "75%             15.000000           16.000000  \n",
       "max             18.000000           18.000000  "
      ]
     },
     "execution_count": 9,
     "metadata": {},
     "output_type": "execute_result"
    }
   ],
   "source": [
    "#check statistics details of the test data \n",
    "dftest.describe()"
   ]
  },
  {
   "cell_type": "code",
   "execution_count": 10,
   "metadata": {},
   "outputs": [
    {
     "data": {
      "text/html": [
       "<div>\n",
       "<style scoped>\n",
       "    .dataframe tbody tr th:only-of-type {\n",
       "        vertical-align: middle;\n",
       "    }\n",
       "\n",
       "    .dataframe tbody tr th {\n",
       "        vertical-align: top;\n",
       "    }\n",
       "\n",
       "    .dataframe thead th {\n",
       "        text-align: right;\n",
       "    }\n",
       "</style>\n",
       "<table border=\"1\" class=\"dataframe\">\n",
       "  <thead>\n",
       "    <tr style=\"text-align: right;\">\n",
       "      <th></th>\n",
       "      <th>User_ID</th>\n",
       "      <th>Occupation</th>\n",
       "      <th>Marital_Status</th>\n",
       "      <th>Product_Category_1</th>\n",
       "      <th>Product_Category_2</th>\n",
       "      <th>Product_Category_3</th>\n",
       "      <th>Purchase</th>\n",
       "    </tr>\n",
       "  </thead>\n",
       "  <tbody>\n",
       "    <tr>\n",
       "      <th>count</th>\n",
       "      <td>5.500680e+05</td>\n",
       "      <td>550068.000000</td>\n",
       "      <td>550068.000000</td>\n",
       "      <td>550068.000000</td>\n",
       "      <td>376430.000000</td>\n",
       "      <td>166821.000000</td>\n",
       "      <td>550068.000000</td>\n",
       "    </tr>\n",
       "    <tr>\n",
       "      <th>mean</th>\n",
       "      <td>1.003029e+06</td>\n",
       "      <td>8.076707</td>\n",
       "      <td>0.409653</td>\n",
       "      <td>5.404270</td>\n",
       "      <td>9.842329</td>\n",
       "      <td>12.668243</td>\n",
       "      <td>9263.968713</td>\n",
       "    </tr>\n",
       "    <tr>\n",
       "      <th>std</th>\n",
       "      <td>1.727592e+03</td>\n",
       "      <td>6.522660</td>\n",
       "      <td>0.491770</td>\n",
       "      <td>3.936211</td>\n",
       "      <td>5.086590</td>\n",
       "      <td>4.125338</td>\n",
       "      <td>5023.065394</td>\n",
       "    </tr>\n",
       "    <tr>\n",
       "      <th>min</th>\n",
       "      <td>1.000001e+06</td>\n",
       "      <td>0.000000</td>\n",
       "      <td>0.000000</td>\n",
       "      <td>1.000000</td>\n",
       "      <td>2.000000</td>\n",
       "      <td>3.000000</td>\n",
       "      <td>12.000000</td>\n",
       "    </tr>\n",
       "    <tr>\n",
       "      <th>25%</th>\n",
       "      <td>1.001516e+06</td>\n",
       "      <td>2.000000</td>\n",
       "      <td>0.000000</td>\n",
       "      <td>1.000000</td>\n",
       "      <td>5.000000</td>\n",
       "      <td>9.000000</td>\n",
       "      <td>5823.000000</td>\n",
       "    </tr>\n",
       "    <tr>\n",
       "      <th>50%</th>\n",
       "      <td>1.003077e+06</td>\n",
       "      <td>7.000000</td>\n",
       "      <td>0.000000</td>\n",
       "      <td>5.000000</td>\n",
       "      <td>9.000000</td>\n",
       "      <td>14.000000</td>\n",
       "      <td>8047.000000</td>\n",
       "    </tr>\n",
       "    <tr>\n",
       "      <th>75%</th>\n",
       "      <td>1.004478e+06</td>\n",
       "      <td>14.000000</td>\n",
       "      <td>1.000000</td>\n",
       "      <td>8.000000</td>\n",
       "      <td>15.000000</td>\n",
       "      <td>16.000000</td>\n",
       "      <td>12054.000000</td>\n",
       "    </tr>\n",
       "    <tr>\n",
       "      <th>max</th>\n",
       "      <td>1.006040e+06</td>\n",
       "      <td>20.000000</td>\n",
       "      <td>1.000000</td>\n",
       "      <td>20.000000</td>\n",
       "      <td>18.000000</td>\n",
       "      <td>18.000000</td>\n",
       "      <td>23961.000000</td>\n",
       "    </tr>\n",
       "  </tbody>\n",
       "</table>\n",
       "</div>"
      ],
      "text/plain": [
       "            User_ID     Occupation  Marital_Status  Product_Category_1  \\\n",
       "count  5.500680e+05  550068.000000   550068.000000       550068.000000   \n",
       "mean   1.003029e+06       8.076707        0.409653            5.404270   \n",
       "std    1.727592e+03       6.522660        0.491770            3.936211   \n",
       "min    1.000001e+06       0.000000        0.000000            1.000000   \n",
       "25%    1.001516e+06       2.000000        0.000000            1.000000   \n",
       "50%    1.003077e+06       7.000000        0.000000            5.000000   \n",
       "75%    1.004478e+06      14.000000        1.000000            8.000000   \n",
       "max    1.006040e+06      20.000000        1.000000           20.000000   \n",
       "\n",
       "       Product_Category_2  Product_Category_3       Purchase  \n",
       "count       376430.000000       166821.000000  550068.000000  \n",
       "mean             9.842329           12.668243    9263.968713  \n",
       "std              5.086590            4.125338    5023.065394  \n",
       "min              2.000000            3.000000      12.000000  \n",
       "25%              5.000000            9.000000    5823.000000  \n",
       "50%              9.000000           14.000000    8047.000000  \n",
       "75%             15.000000           16.000000   12054.000000  \n",
       "max             18.000000           18.000000   23961.000000  "
      ]
     },
     "execution_count": 10,
     "metadata": {},
     "output_type": "execute_result"
    }
   ],
   "source": [
    "#check statistics details of the train data\n",
    "dftrain.describe()"
   ]
  },
  {
   "cell_type": "code",
   "execution_count": 11,
   "metadata": {},
   "outputs": [],
   "source": [
    "# Import missing no library to visually check the missing values in the dataset\n",
    "import missingno"
   ]
  },
  {
   "cell_type": "code",
   "execution_count": 12,
   "metadata": {},
   "outputs": [
    {
     "data": {
      "text/plain": [
       "<matplotlib.axes._subplots.AxesSubplot at 0x2ef097425f8>"
      ]
     },
     "execution_count": 12,
     "metadata": {},
     "output_type": "execute_result"
    },
    {
     "data": {
      "image/png": "[encoded data removed]",
      "text/plain": [
       "<Figure size 2160x720 with 2 Axes>"
      ]
     },
     "metadata": {
      "needs_background": "light"
     },
     "output_type": "display_data"
    }
   ],
   "source": [
    "#Visually check missing values in train dataset\n",
    "missingno.matrix(dftrain,figsize=(30,10))"
   ]
  },
  {
   "cell_type": "code",
   "execution_count": 13,
   "metadata": {},
   "outputs": [
    {
     "data": {
      "text/plain": [
       "<matplotlib.axes._subplots.AxesSubplot at 0x2ef14907898>"
      ]
     },
     "execution_count": 13,
     "metadata": {},
     "output_type": "execute_result"
    },
    {
     "data": {
      "image/png": "[encoded data removed]",
      "text/plain": [
       "<Figure size 2160x720 with 2 Axes>"
      ]
     },
     "metadata": {
      "needs_background": "light"
     },
     "output_type": "display_data"
    }
   ],
   "source": [
    "#Visually check missing values in the test dataset\n",
    "missingno.matrix(dftest,figsize=(30,10))"
   ]
  },
  {
   "cell_type": "code",
   "execution_count": 14,
   "metadata": {},
   "outputs": [
    {
     "data": {
      "text/plain": [
       "173638"
      ]
     },
     "execution_count": 14,
     "metadata": {},
     "output_type": "execute_result"
    }
   ],
   "source": [
    "# Numerically check null values in Product category 2 cloumn of the train dataset\n",
    "dftrain['Product_Category_2'].isnull().sum()"
   ]
  },
  {
   "cell_type": "code",
   "execution_count": 15,
   "metadata": {},
   "outputs": [
    {
     "data": {
      "text/plain": [
       "72344"
      ]
     },
     "execution_count": 15,
     "metadata": {},
     "output_type": "execute_result"
    }
   ],
   "source": [
    "#Numerically check the null values in Product category 3 coulmn of the test dataset\n",
    "dftest['Product_Category_2'].isnull().sum()"
   ]
  },
  {
   "cell_type": "code",
   "execution_count": 16,
   "metadata": {},
   "outputs": [
    {
     "data": {
      "text/plain": [
       "383247"
      ]
     },
     "execution_count": 16,
     "metadata": {},
     "output_type": "execute_result"
    }
   ],
   "source": [
    "#Numerically check the null values in Product category 3 coulmn of the train dataset\n",
    "dftrain['Product_Category_3'].isnull().sum()"
   ]
  },
  {
   "cell_type": "code",
   "execution_count": 17,
   "metadata": {},
   "outputs": [
    {
     "data": {
      "text/plain": [
       "162562"
      ]
     },
     "execution_count": 17,
     "metadata": {},
     "output_type": "execute_result"
    }
   ],
   "source": [
    "#Numerically check the null values in Product category 3 coulmn of the test dataset\n",
    "dftest['Product_Category_3'].isnull().sum()"
   ]
  },
  {
   "cell_type": "code",
   "execution_count": 18,
   "metadata": {},
   "outputs": [],
   "source": [
    "#Total missing values percent in Product category 2 Column  of the train data set\n",
    "xtrain=(173638/550068)*100"
   ]
  },
  {
   "cell_type": "code",
   "execution_count": 19,
   "metadata": {},
   "outputs": [
    {
     "data": {
      "text/plain": [
       "31.56664266963357"
      ]
     },
     "execution_count": 19,
     "metadata": {},
     "output_type": "execute_result"
    }
   ],
   "source": [
    "xtrain"
   ]
  },
  {
   "cell_type": "code",
   "execution_count": 20,
   "metadata": {},
   "outputs": [],
   "source": [
    "#Total missing values percent in Product category 2 Column of the test data set\n",
    "xtest=(72344/233599)*100"
   ]
  },
  {
   "cell_type": "code",
   "execution_count": 21,
   "metadata": {},
   "outputs": [
    {
     "data": {
      "text/plain": [
       "30.96931065629562"
      ]
     },
     "execution_count": 21,
     "metadata": {},
     "output_type": "execute_result"
    }
   ],
   "source": [
    "xtest"
   ]
  },
  {
   "cell_type": "code",
   "execution_count": 22,
   "metadata": {},
   "outputs": [],
   "source": [
    "#Total missing values percent in Product category 3 Column of the train data set\n",
    "ytrain=(383247/550068)*100"
   ]
  },
  {
   "cell_type": "code",
   "execution_count": 23,
   "metadata": {},
   "outputs": [
    {
     "data": {
      "text/plain": [
       "69.67265865311198"
      ]
     },
     "execution_count": 23,
     "metadata": {},
     "output_type": "execute_result"
    }
   ],
   "source": [
    "ytrain"
   ]
  },
  {
   "cell_type": "code",
   "execution_count": 24,
   "metadata": {},
   "outputs": [],
   "source": [
    "#Total missing values percent in Product category 3 Column of the test data set\n",
    "ytest=(162562/233599)*100"
   ]
  },
  {
   "cell_type": "code",
   "execution_count": 25,
   "metadata": {},
   "outputs": [
    {
     "data": {
      "text/plain": [
       "69.59019516350669"
      ]
     },
     "execution_count": 25,
     "metadata": {},
     "output_type": "execute_result"
    }
   ],
   "source": [
    "ytest"
   ]
  },
  {
   "cell_type": "code",
   "execution_count": 26,
   "metadata": {},
   "outputs": [
    {
     "data": {
      "text/plain": [
       "Gender\n",
       "F    135809\n",
       "M    414259\n",
       "dtype: int64"
      ]
     },
     "execution_count": 26,
     "metadata": {},
     "output_type": "execute_result"
    }
   ],
   "source": [
    "#Group Gender column of the train data set\n",
    "dftrain.groupby('Gender').size()"
   ]
  },
  {
   "cell_type": "code",
   "execution_count": 27,
   "metadata": {},
   "outputs": [
    {
     "data": {
      "text/plain": [
       "Gender\n",
       "F     57827\n",
       "M    175772\n",
       "dtype: int64"
      ]
     },
     "execution_count": 27,
     "metadata": {},
     "output_type": "execute_result"
    }
   ],
   "source": [
    "#Group Gender column of the test data set\n",
    "dftest.groupby('Gender').size()"
   ]
  },
  {
   "cell_type": "code",
   "execution_count": 28,
   "metadata": {},
   "outputs": [
    {
     "name": "stdout",
     "output_type": "stream",
     "text": [
      "Female precentage ratio is 24.689492935418894 %\n"
     ]
    }
   ],
   "source": [
    "#Female Ratio of the train data set\n",
    "FR=(135809/550068)*100\n",
    "print(\"Female precentage ratio is {0} %\".format(FR))"
   ]
  },
  {
   "cell_type": "code",
   "execution_count": 29,
   "metadata": {},
   "outputs": [
    {
     "name": "stdout",
     "output_type": "stream",
     "text": [
      "Male precentage ratio is 75.31050706458112 %\n"
     ]
    }
   ],
   "source": [
    "#Male Ratio of the train data set\n",
    "MR=(414259/550068)*100\n",
    "print(\"Male precentage ratio is {0} %\".format(MR))"
   ]
  },
  {
   "cell_type": "code",
   "execution_count": 30,
   "metadata": {},
   "outputs": [
    {
     "name": "stdout",
     "output_type": "stream",
     "text": [
      "Female precentage ratio is 24.754814875063676 %\n"
     ]
    }
   ],
   "source": [
    "#Female ratio of the train data set\n",
    "FR=( 57827/233599)*100\n",
    "print(\"Female precentage ratio is {0} %\".format(FR))"
   ]
  },
  {
   "cell_type": "code",
   "execution_count": 31,
   "metadata": {},
   "outputs": [
    {
     "name": "stdout",
     "output_type": "stream",
     "text": [
      "Male precentage ratio is 75.24518512493631 %\n"
     ]
    }
   ],
   "source": [
    "#Male Ratio of the test data set\n",
    "MR=(175772/233599)*100\n",
    "print(\"Male precentage ratio is {0} %\".format(MR))"
   ]
  },
  {
   "cell_type": "code",
   "execution_count": 32,
   "metadata": {},
   "outputs": [
    {
     "data": {
      "text/plain": [
       "Age\n",
       "0-17      15102\n",
       "18-25     99660\n",
       "26-35    219587\n",
       "36-45    110013\n",
       "46-50     45701\n",
       "51-55     38501\n",
       "55+       21504\n",
       "dtype: int64"
      ]
     },
     "execution_count": 32,
     "metadata": {},
     "output_type": "execute_result"
    }
   ],
   "source": [
    "#Group Age column of the train data set\n",
    "dftrain.groupby('Age').size()"
   ]
  },
  {
   "cell_type": "code",
   "execution_count": 33,
   "metadata": {},
   "outputs": [
    {
     "data": {
      "text/plain": [
       "Age\n",
       "0-17      6232\n",
       "18-25    42293\n",
       "26-35    93428\n",
       "36-45    46711\n",
       "46-50    19577\n",
       "51-55    16283\n",
       "55+       9075\n",
       "dtype: int64"
      ]
     },
     "execution_count": 33,
     "metadata": {},
     "output_type": "execute_result"
    }
   ],
   "source": [
    "#Group Age column of the test data set\n",
    "dftest.groupby('Age').size()"
   ]
  },
  {
   "cell_type": "code",
   "execution_count": 34,
   "metadata": {},
   "outputs": [
    {
     "data": {
      "text/plain": [
       "<matplotlib.axes._subplots.AxesSubplot at 0x2ef12ede278>"
      ]
     },
     "execution_count": 34,
     "metadata": {},
     "output_type": "execute_result"
    },
    {
     "data": {
      "image/png": "[encoded data removed]",
      "text/plain": [
       "<Figure size 1080x720 with 1 Axes>"
      ]
     },
     "metadata": {
      "needs_background": "light"
     },
     "output_type": "display_data"
    }
   ],
   "source": [
    "#We will also check Age column via Sea Born CountPlot\n",
    "import seaborn as sns\n",
    "import matplotlib.pyplot as plt\n",
    "plt.figure(figsize = (15, 10))\n",
    "sns.countplot(y= 'Age', data = dftrain, order = dftrain['Age'].value_counts().iloc[:10].index)"
   ]
  },
  {
   "cell_type": "code",
   "execution_count": 35,
   "metadata": {},
   "outputs": [
    {
     "data": {
      "text/plain": [
       "Occupation\n",
       "0     69638\n",
       "1     47426\n",
       "2     26588\n",
       "3     17650\n",
       "4     72308\n",
       "5     12177\n",
       "6     20355\n",
       "7     59133\n",
       "8      1546\n",
       "9      6291\n",
       "10    12930\n",
       "11    11586\n",
       "12    31179\n",
       "13     7728\n",
       "14    27309\n",
       "15    12165\n",
       "16    25371\n",
       "17    40043\n",
       "18     6622\n",
       "19     8461\n",
       "20    33562\n",
       "dtype: int64"
      ]
     },
     "execution_count": 35,
     "metadata": {},
     "output_type": "execute_result"
    }
   ],
   "source": [
    "#Group Occupation column of the train data set \n",
    "dftrain.groupby('Occupation').size()"
   ]
  },
  {
   "cell_type": "code",
   "execution_count": 36,
   "metadata": {},
   "outputs": [
    {
     "data": {
      "text/plain": [
       "<matplotlib.axes._subplots.AxesSubplot at 0x2ef0000acf8>"
      ]
     },
     "execution_count": 36,
     "metadata": {},
     "output_type": "execute_result"
    },
    {
     "data": {
      "image/png": "[encoded data removed]",
      "text/plain": [
       "<Figure size 1080x720 with 1 Axes>"
      ]
     },
     "metadata": {
      "needs_background": "light"
     },
     "output_type": "display_data"
    }
   ],
   "source": [
    "#We will also check Occupation column via Sea Born CountPlot\n",
    "plt.figure(figsize = (15, 10))\n",
    "sns.countplot(y= 'Occupation', data = dftrain, order = dftrain['Occupation'].value_counts().iloc[:10].index)"
   ]
  },
  {
   "cell_type": "code",
   "execution_count": 37,
   "metadata": {},
   "outputs": [],
   "source": [
    "# Check mean of the Product Category 2 column of the train dataset\n",
    "trpc2mean=dftrain['Product_Category_2'].mean()"
   ]
  },
  {
   "cell_type": "code",
   "execution_count": 38,
   "metadata": {},
   "outputs": [],
   "source": [
    "# Check mean of the Product Category 3 column of the train dataset\n",
    "trpc3mean=dftrain['Product_Category_3'].mean()"
   ]
  },
  {
   "cell_type": "code",
   "execution_count": 39,
   "metadata": {},
   "outputs": [],
   "source": [
    "# Check mean of the Product Category 3 column of the test dataset\n",
    "tspc2mean=dftest['Product_Category_2'].mean()"
   ]
  },
  {
   "cell_type": "code",
   "execution_count": 40,
   "metadata": {},
   "outputs": [],
   "source": [
    "# Check mean of the Product Category 3 column of the test dataset\n",
    "tspc3mean=dftest['Product_Category_3'].mean()"
   ]
  },
  {
   "cell_type": "code",
   "execution_count": 41,
   "metadata": {},
   "outputs": [
    {
     "data": {
      "text/plain": [
       "9.842329251122386"
      ]
     },
     "execution_count": 41,
     "metadata": {},
     "output_type": "execute_result"
    }
   ],
   "source": [
    "#Mean\n",
    "trpc2mean"
   ]
  },
  {
   "cell_type": "code",
   "execution_count": 42,
   "metadata": {},
   "outputs": [
    {
     "data": {
      "text/plain": [
       "12.668243206790512"
      ]
     },
     "execution_count": 42,
     "metadata": {},
     "output_type": "execute_result"
    }
   ],
   "source": [
    "#Mean\n",
    "trpc3mean"
   ]
  },
  {
   "cell_type": "code",
   "execution_count": 43,
   "metadata": {},
   "outputs": [
    {
     "data": {
      "text/plain": [
       "9.849586059346997"
      ]
     },
     "execution_count": 43,
     "metadata": {},
     "output_type": "execute_result"
    }
   ],
   "source": [
    "#Mean\n",
    "tspc2mean"
   ]
  },
  {
   "cell_type": "code",
   "execution_count": 44,
   "metadata": {},
   "outputs": [
    {
     "data": {
      "text/plain": [
       "12.669453946534905"
      ]
     },
     "execution_count": 44,
     "metadata": {},
     "output_type": "execute_result"
    }
   ],
   "source": [
    "#Mean\n",
    "tspc3mean"
   ]
  },
  {
   "cell_type": "code",
   "execution_count": 45,
   "metadata": {},
   "outputs": [],
   "source": [
    "#Calculate median of the product Category coulmns\n",
    "trpc2median=dftrain['Product_Category_2'].median()\n",
    "trpc3median=dftrain['Product_Category_3'].median()\n",
    "tspc2median=dftest['Product_Category_2'].median()\n",
    "tspc3median=dftest['Product_Category_3'].median()"
   ]
  },
  {
   "cell_type": "code",
   "execution_count": 46,
   "metadata": {},
   "outputs": [
    {
     "data": {
      "text/plain": [
       "9.0"
      ]
     },
     "execution_count": 46,
     "metadata": {},
     "output_type": "execute_result"
    }
   ],
   "source": [
    "#median of the product category 2 coulmn of the train data\n",
    "trpc2median"
   ]
  },
  {
   "cell_type": "code",
   "execution_count": 47,
   "metadata": {},
   "outputs": [
    {
     "data": {
      "text/plain": [
       "14.0"
      ]
     },
     "execution_count": 47,
     "metadata": {},
     "output_type": "execute_result"
    }
   ],
   "source": [
    "#median of the product category 3 coulmn of the train data\n",
    "trpc3median"
   ]
  },
  {
   "cell_type": "code",
   "execution_count": 48,
   "metadata": {},
   "outputs": [
    {
     "data": {
      "text/plain": [
       "9.0"
      ]
     },
     "execution_count": 48,
     "metadata": {},
     "output_type": "execute_result"
    }
   ],
   "source": [
    "#median of the product category 2 coulmn of the test data\n",
    "tspc2median"
   ]
  },
  {
   "cell_type": "code",
   "execution_count": 49,
   "metadata": {},
   "outputs": [
    {
     "data": {
      "text/plain": [
       "14.0"
      ]
     },
     "execution_count": 49,
     "metadata": {},
     "output_type": "execute_result"
    }
   ],
   "source": [
    "#median of the product category 3 coulmn of the test data\n",
    "tspc3median"
   ]
  },
  {
   "cell_type": "code",
   "execution_count": 50,
   "metadata": {},
   "outputs": [],
   "source": [
    "# Fill null values of the Product category 2 column of the train dataset with the median \n",
    "dftrain['Product_Category_2']=dftrain['Product_Category_2'].fillna(trpc2median)"
   ]
  },
  {
   "cell_type": "code",
   "execution_count": 51,
   "metadata": {},
   "outputs": [],
   "source": [
    "# Fill null values of the Product category 3 column of the train dataset with the median \n",
    "dftrain['Product_Category_3']=dftrain['Product_Category_3'].fillna(trpc3median)"
   ]
  },
  {
   "cell_type": "code",
   "execution_count": 52,
   "metadata": {},
   "outputs": [],
   "source": [
    "# Fill null values of the Product category 2 column of the test dataset with the median \n",
    "dftest['Product_Category_2']=dftest['Product_Category_2'].fillna(tspc2median)"
   ]
  },
  {
   "cell_type": "code",
   "execution_count": 53,
   "metadata": {},
   "outputs": [],
   "source": [
    "# Fill null values of the Product category 3 column of the test dataset with the median\n",
    "dftest['Product_Category_3']=dftest['Product_Category_3'].fillna(tspc2median)"
   ]
  },
  {
   "cell_type": "code",
   "execution_count": 54,
   "metadata": {},
   "outputs": [
    {
     "data": {
      "text/html": [
       "<div>\n",
       "<style scoped>\n",
       "    .dataframe tbody tr th:only-of-type {\n",
       "        vertical-align: middle;\n",
       "    }\n",
       "\n",
       "    .dataframe tbody tr th {\n",
       "        vertical-align: top;\n",
       "    }\n",
       "\n",
       "    .dataframe thead th {\n",
       "        text-align: right;\n",
       "    }\n",
       "</style>\n",
       "<table border=\"1\" class=\"dataframe\">\n",
       "  <thead>\n",
       "    <tr style=\"text-align: right;\">\n",
       "      <th></th>\n",
       "      <th>User_ID</th>\n",
       "      <th>Product_ID</th>\n",
       "      <th>Gender</th>\n",
       "      <th>Age</th>\n",
       "      <th>Occupation</th>\n",
       "      <th>City_Category</th>\n",
       "      <th>Stay_In_Current_City_Years</th>\n",
       "      <th>Marital_Status</th>\n",
       "      <th>Product_Category_1</th>\n",
       "      <th>Product_Category_2</th>\n",
       "      <th>Product_Category_3</th>\n",
       "      <th>Purchase</th>\n",
       "    </tr>\n",
       "  </thead>\n",
       "  <tbody>\n",
       "    <tr>\n",
       "      <th>0</th>\n",
       "      <td>1000001</td>\n",
       "      <td>P00069042</td>\n",
       "      <td>F</td>\n",
       "      <td>0-17</td>\n",
       "      <td>10</td>\n",
       "      <td>A</td>\n",
       "      <td>2</td>\n",
       "      <td>0</td>\n",
       "      <td>3</td>\n",
       "      <td>9.0</td>\n",
       "      <td>14.0</td>\n",
       "      <td>8370</td>\n",
       "    </tr>\n",
       "    <tr>\n",
       "      <th>1</th>\n",
       "      <td>1000001</td>\n",
       "      <td>P00248942</td>\n",
       "      <td>F</td>\n",
       "      <td>0-17</td>\n",
       "      <td>10</td>\n",
       "      <td>A</td>\n",
       "      <td>2</td>\n",
       "      <td>0</td>\n",
       "      <td>1</td>\n",
       "      <td>6.0</td>\n",
       "      <td>14.0</td>\n",
       "      <td>15200</td>\n",
       "    </tr>\n",
       "    <tr>\n",
       "      <th>2</th>\n",
       "      <td>1000001</td>\n",
       "      <td>P00087842</td>\n",
       "      <td>F</td>\n",
       "      <td>0-17</td>\n",
       "      <td>10</td>\n",
       "      <td>A</td>\n",
       "      <td>2</td>\n",
       "      <td>0</td>\n",
       "      <td>12</td>\n",
       "      <td>9.0</td>\n",
       "      <td>14.0</td>\n",
       "      <td>1422</td>\n",
       "    </tr>\n",
       "    <tr>\n",
       "      <th>3</th>\n",
       "      <td>1000001</td>\n",
       "      <td>P00085442</td>\n",
       "      <td>F</td>\n",
       "      <td>0-17</td>\n",
       "      <td>10</td>\n",
       "      <td>A</td>\n",
       "      <td>2</td>\n",
       "      <td>0</td>\n",
       "      <td>12</td>\n",
       "      <td>14.0</td>\n",
       "      <td>14.0</td>\n",
       "      <td>1057</td>\n",
       "    </tr>\n",
       "    <tr>\n",
       "      <th>4</th>\n",
       "      <td>1000002</td>\n",
       "      <td>P00285442</td>\n",
       "      <td>M</td>\n",
       "      <td>55+</td>\n",
       "      <td>16</td>\n",
       "      <td>C</td>\n",
       "      <td>4+</td>\n",
       "      <td>0</td>\n",
       "      <td>8</td>\n",
       "      <td>9.0</td>\n",
       "      <td>14.0</td>\n",
       "      <td>7969</td>\n",
       "    </tr>\n",
       "  </tbody>\n",
       "</table>\n",
       "</div>"
      ],
      "text/plain": [
       "   User_ID Product_ID Gender   Age  Occupation City_Category  \\\n",
       "0  1000001  P00069042      F  0-17          10             A   \n",
       "1  1000001  P00248942      F  0-17          10             A   \n",
       "2  1000001  P00087842      F  0-17          10             A   \n",
       "3  1000001  P00085442      F  0-17          10             A   \n",
       "4  1000002  P00285442      M   55+          16             C   \n",
       "\n",
       "  Stay_In_Current_City_Years  Marital_Status  Product_Category_1  \\\n",
       "0                          2               0                   3   \n",
       "1                          2               0                   1   \n",
       "2                          2               0                  12   \n",
       "3                          2               0                  12   \n",
       "4                         4+               0                   8   \n",
       "\n",
       "   Product_Category_2  Product_Category_3  Purchase  \n",
       "0                 9.0                14.0      8370  \n",
       "1                 6.0                14.0     15200  \n",
       "2                 9.0                14.0      1422  \n",
       "3                14.0                14.0      1057  \n",
       "4                 9.0                14.0      7969  "
      ]
     },
     "execution_count": 54,
     "metadata": {},
     "output_type": "execute_result"
    }
   ],
   "source": [
    "#Now check again the head of the train dataset\n",
    "dftrain.head()"
   ]
  },
  {
   "cell_type": "code",
   "execution_count": 55,
   "metadata": {},
   "outputs": [
    {
     "data": {
      "text/html": [
       "<div>\n",
       "<style scoped>\n",
       "    .dataframe tbody tr th:only-of-type {\n",
       "        vertical-align: middle;\n",
       "    }\n",
       "\n",
       "    .dataframe tbody tr th {\n",
       "        vertical-align: top;\n",
       "    }\n",
       "\n",
       "    .dataframe thead th {\n",
       "        text-align: right;\n",
       "    }\n",
       "</style>\n",
       "<table border=\"1\" class=\"dataframe\">\n",
       "  <thead>\n",
       "    <tr style=\"text-align: right;\">\n",
       "      <th></th>\n",
       "      <th>User_ID</th>\n",
       "      <th>Product_ID</th>\n",
       "      <th>Gender</th>\n",
       "      <th>Age</th>\n",
       "      <th>Occupation</th>\n",
       "      <th>City_Category</th>\n",
       "      <th>Stay_In_Current_City_Years</th>\n",
       "      <th>Marital_Status</th>\n",
       "      <th>Product_Category_1</th>\n",
       "      <th>Product_Category_2</th>\n",
       "      <th>Product_Category_3</th>\n",
       "    </tr>\n",
       "  </thead>\n",
       "  <tbody>\n",
       "    <tr>\n",
       "      <th>0</th>\n",
       "      <td>1000004</td>\n",
       "      <td>P00128942</td>\n",
       "      <td>M</td>\n",
       "      <td>46-50</td>\n",
       "      <td>7</td>\n",
       "      <td>B</td>\n",
       "      <td>2</td>\n",
       "      <td>1</td>\n",
       "      <td>1</td>\n",
       "      <td>11.0</td>\n",
       "      <td>9.0</td>\n",
       "    </tr>\n",
       "    <tr>\n",
       "      <th>1</th>\n",
       "      <td>1000009</td>\n",
       "      <td>P00113442</td>\n",
       "      <td>M</td>\n",
       "      <td>26-35</td>\n",
       "      <td>17</td>\n",
       "      <td>C</td>\n",
       "      <td>0</td>\n",
       "      <td>0</td>\n",
       "      <td>3</td>\n",
       "      <td>5.0</td>\n",
       "      <td>9.0</td>\n",
       "    </tr>\n",
       "    <tr>\n",
       "      <th>2</th>\n",
       "      <td>1000010</td>\n",
       "      <td>P00288442</td>\n",
       "      <td>F</td>\n",
       "      <td>36-45</td>\n",
       "      <td>1</td>\n",
       "      <td>B</td>\n",
       "      <td>4+</td>\n",
       "      <td>1</td>\n",
       "      <td>5</td>\n",
       "      <td>14.0</td>\n",
       "      <td>9.0</td>\n",
       "    </tr>\n",
       "    <tr>\n",
       "      <th>3</th>\n",
       "      <td>1000010</td>\n",
       "      <td>P00145342</td>\n",
       "      <td>F</td>\n",
       "      <td>36-45</td>\n",
       "      <td>1</td>\n",
       "      <td>B</td>\n",
       "      <td>4+</td>\n",
       "      <td>1</td>\n",
       "      <td>4</td>\n",
       "      <td>9.0</td>\n",
       "      <td>9.0</td>\n",
       "    </tr>\n",
       "    <tr>\n",
       "      <th>4</th>\n",
       "      <td>1000011</td>\n",
       "      <td>P00053842</td>\n",
       "      <td>F</td>\n",
       "      <td>26-35</td>\n",
       "      <td>1</td>\n",
       "      <td>C</td>\n",
       "      <td>1</td>\n",
       "      <td>0</td>\n",
       "      <td>4</td>\n",
       "      <td>5.0</td>\n",
       "      <td>12.0</td>\n",
       "    </tr>\n",
       "  </tbody>\n",
       "</table>\n",
       "</div>"
      ],
      "text/plain": [
       "   User_ID Product_ID Gender    Age  Occupation City_Category  \\\n",
       "0  1000004  P00128942      M  46-50           7             B   \n",
       "1  1000009  P00113442      M  26-35          17             C   \n",
       "2  1000010  P00288442      F  36-45           1             B   \n",
       "3  1000010  P00145342      F  36-45           1             B   \n",
       "4  1000011  P00053842      F  26-35           1             C   \n",
       "\n",
       "  Stay_In_Current_City_Years  Marital_Status  Product_Category_1  \\\n",
       "0                          2               1                   1   \n",
       "1                          0               0                   3   \n",
       "2                         4+               1                   5   \n",
       "3                         4+               1                   4   \n",
       "4                          1               0                   4   \n",
       "\n",
       "   Product_Category_2  Product_Category_3  \n",
       "0                11.0                 9.0  \n",
       "1                 5.0                 9.0  \n",
       "2                14.0                 9.0  \n",
       "3                 9.0                 9.0  \n",
       "4                 5.0                12.0  "
      ]
     },
     "execution_count": 55,
     "metadata": {},
     "output_type": "execute_result"
    }
   ],
   "source": [
    "#Now check again the head of the test dataset\n",
    "dftest.head()"
   ]
  },
  {
   "cell_type": "code",
   "execution_count": 56,
   "metadata": {},
   "outputs": [
    {
     "data": {
      "text/plain": [
       "0"
      ]
     },
     "execution_count": 56,
     "metadata": {},
     "output_type": "execute_result"
    }
   ],
   "source": [
    "#Now check again the null values of the product category 2 after replacing the null values\n",
    "dftrain['Product_Category_2'].isnull().sum()"
   ]
  },
  {
   "cell_type": "code",
   "execution_count": 57,
   "metadata": {},
   "outputs": [
    {
     "data": {
      "text/plain": [
       "0"
      ]
     },
     "execution_count": 57,
     "metadata": {},
     "output_type": "execute_result"
    }
   ],
   "source": [
    "#Now check again the null values of the product category 3 after replacing the null values\n",
    "dftrain['Product_Category_3'].isnull().sum()"
   ]
  },
  {
   "cell_type": "code",
   "execution_count": 58,
   "metadata": {},
   "outputs": [
    {
     "data": {
      "text/plain": [
       "0"
      ]
     },
     "execution_count": 58,
     "metadata": {},
     "output_type": "execute_result"
    }
   ],
   "source": [
    "#Now check again the null values of the product category 2 after replacing the null values\n",
    "dftest['Product_Category_2'].isnull().sum()"
   ]
  },
  {
   "cell_type": "code",
   "execution_count": 59,
   "metadata": {},
   "outputs": [
    {
     "data": {
      "text/plain": [
       "0"
      ]
     },
     "execution_count": 59,
     "metadata": {},
     "output_type": "execute_result"
    }
   ],
   "source": [
    "#Now check again the null values of the product category 3 after replacing the null values\n",
    "dftest['Product_Category_3'].isnull().sum()"
   ]
  },
  {
   "cell_type": "code",
   "execution_count": 60,
   "metadata": {},
   "outputs": [
    {
     "data": {
      "text/plain": [
       "<matplotlib.axes._subplots.AxesSubplot at 0x2ef00794eb8>"
      ]
     },
     "execution_count": 60,
     "metadata": {},
     "output_type": "execute_result"
    },
    {
     "data": {
      "image/png": "[encoded data removed]",
      "text/plain": [
       "<Figure size 2160x720 with 2 Axes>"
      ]
     },
     "metadata": {
      "needs_background": "light"
     },
     "output_type": "display_data"
    }
   ],
   "source": [
    "#Now again checkthe missing values visually\n",
    "missingno.matrix(dftrain,figsize=(30,10))"
   ]
  },
  {
   "cell_type": "code",
   "execution_count": 61,
   "metadata": {},
   "outputs": [
    {
     "data": {
      "text/plain": [
       "<matplotlib.axes._subplots.AxesSubplot at 0x2ef139514a8>"
      ]
     },
     "execution_count": 61,
     "metadata": {},
     "output_type": "execute_result"
    },
    {
     "data": {
      "image/png": "[encoded data removed]",
      "text/plain": [
       "<Figure size 2160x720 with 2 Axes>"
      ]
     },
     "metadata": {
      "needs_background": "light"
     },
     "output_type": "display_data"
    }
   ],
   "source": [
    "missingno.matrix(dftest,figsize=(30,10))"
   ]
  },
  {
   "cell_type": "code",
   "execution_count": 62,
   "metadata": {},
   "outputs": [],
   "source": [
    "#Here we replace Some ranges with the values so we easily use them in the machine learning algos \n",
    "dftrain2 = dftrain.replace({\n",
    "    'M':0,\n",
    "    'F':1,\n",
    "    'A':0,\n",
    "    'B':1,\n",
    "    'C':2,\n",
    "    '0-17':0,\n",
    "    '18-25':1,\n",
    "    '26-35':2,\n",
    "    '36-45':3,\n",
    "    '46-50':4,\n",
    "    '51-55':5,\n",
    "    '55+':6,\n",
    "    '4+':4,\n",
    "})"
   ]
  },
  {
   "cell_type": "code",
   "execution_count": 63,
   "metadata": {},
   "outputs": [
    {
     "data": {
      "text/html": [
       "<div>\n",
       "<style scoped>\n",
       "    .dataframe tbody tr th:only-of-type {\n",
       "        vertical-align: middle;\n",
       "    }\n",
       "\n",
       "    .dataframe tbody tr th {\n",
       "        vertical-align: top;\n",
       "    }\n",
       "\n",
       "    .dataframe thead th {\n",
       "        text-align: right;\n",
       "    }\n",
       "</style>\n",
       "<table border=\"1\" class=\"dataframe\">\n",
       "  <thead>\n",
       "    <tr style=\"text-align: right;\">\n",
       "      <th></th>\n",
       "      <th>User_ID</th>\n",
       "      <th>Product_ID</th>\n",
       "      <th>Gender</th>\n",
       "      <th>Age</th>\n",
       "      <th>Occupation</th>\n",
       "      <th>City_Category</th>\n",
       "      <th>Stay_In_Current_City_Years</th>\n",
       "      <th>Marital_Status</th>\n",
       "      <th>Product_Category_1</th>\n",
       "      <th>Product_Category_2</th>\n",
       "      <th>Product_Category_3</th>\n",
       "      <th>Purchase</th>\n",
       "    </tr>\n",
       "  </thead>\n",
       "  <tbody>\n",
       "    <tr>\n",
       "      <th>0</th>\n",
       "      <td>1000001</td>\n",
       "      <td>P00069042</td>\n",
       "      <td>1</td>\n",
       "      <td>0</td>\n",
       "      <td>10</td>\n",
       "      <td>0</td>\n",
       "      <td>2</td>\n",
       "      <td>0</td>\n",
       "      <td>3</td>\n",
       "      <td>9.0</td>\n",
       "      <td>14.0</td>\n",
       "      <td>8370</td>\n",
       "    </tr>\n",
       "    <tr>\n",
       "      <th>1</th>\n",
       "      <td>1000001</td>\n",
       "      <td>P00248942</td>\n",
       "      <td>1</td>\n",
       "      <td>0</td>\n",
       "      <td>10</td>\n",
       "      <td>0</td>\n",
       "      <td>2</td>\n",
       "      <td>0</td>\n",
       "      <td>1</td>\n",
       "      <td>6.0</td>\n",
       "      <td>14.0</td>\n",
       "      <td>15200</td>\n",
       "    </tr>\n",
       "    <tr>\n",
       "      <th>2</th>\n",
       "      <td>1000001</td>\n",
       "      <td>P00087842</td>\n",
       "      <td>1</td>\n",
       "      <td>0</td>\n",
       "      <td>10</td>\n",
       "      <td>0</td>\n",
       "      <td>2</td>\n",
       "      <td>0</td>\n",
       "      <td>12</td>\n",
       "      <td>9.0</td>\n",
       "      <td>14.0</td>\n",
       "      <td>1422</td>\n",
       "    </tr>\n",
       "    <tr>\n",
       "      <th>3</th>\n",
       "      <td>1000001</td>\n",
       "      <td>P00085442</td>\n",
       "      <td>1</td>\n",
       "      <td>0</td>\n",
       "      <td>10</td>\n",
       "      <td>0</td>\n",
       "      <td>2</td>\n",
       "      <td>0</td>\n",
       "      <td>12</td>\n",
       "      <td>14.0</td>\n",
       "      <td>14.0</td>\n",
       "      <td>1057</td>\n",
       "    </tr>\n",
       "    <tr>\n",
       "      <th>4</th>\n",
       "      <td>1000002</td>\n",
       "      <td>P00285442</td>\n",
       "      <td>0</td>\n",
       "      <td>6</td>\n",
       "      <td>16</td>\n",
       "      <td>2</td>\n",
       "      <td>4</td>\n",
       "      <td>0</td>\n",
       "      <td>8</td>\n",
       "      <td>9.0</td>\n",
       "      <td>14.0</td>\n",
       "      <td>7969</td>\n",
       "    </tr>\n",
       "  </tbody>\n",
       "</table>\n",
       "</div>"
      ],
      "text/plain": [
       "   User_ID Product_ID  Gender  Age  Occupation  City_Category  \\\n",
       "0  1000001  P00069042       1    0          10              0   \n",
       "1  1000001  P00248942       1    0          10              0   \n",
       "2  1000001  P00087842       1    0          10              0   \n",
       "3  1000001  P00085442       1    0          10              0   \n",
       "4  1000002  P00285442       0    6          16              2   \n",
       "\n",
       "  Stay_In_Current_City_Years  Marital_Status  Product_Category_1  \\\n",
       "0                          2               0                   3   \n",
       "1                          2               0                   1   \n",
       "2                          2               0                  12   \n",
       "3                          2               0                  12   \n",
       "4                          4               0                   8   \n",
       "\n",
       "   Product_Category_2  Product_Category_3  Purchase  \n",
       "0                 9.0                14.0      8370  \n",
       "1                 6.0                14.0     15200  \n",
       "2                 9.0                14.0      1422  \n",
       "3                14.0                14.0      1057  \n",
       "4                 9.0                14.0      7969  "
      ]
     },
     "execution_count": 63,
     "metadata": {},
     "output_type": "execute_result"
    }
   ],
   "source": [
    "#Now chech head of the train data set , here we can see our values replaced\n",
    "dftrain2.head()"
   ]
  },
  {
   "cell_type": "code",
   "execution_count": 64,
   "metadata": {},
   "outputs": [
    {
     "data": {
      "text/html": [
       "<div>\n",
       "<style scoped>\n",
       "    .dataframe tbody tr th:only-of-type {\n",
       "        vertical-align: middle;\n",
       "    }\n",
       "\n",
       "    .dataframe tbody tr th {\n",
       "        vertical-align: top;\n",
       "    }\n",
       "\n",
       "    .dataframe thead th {\n",
       "        text-align: right;\n",
       "    }\n",
       "</style>\n",
       "<table border=\"1\" class=\"dataframe\">\n",
       "  <thead>\n",
       "    <tr style=\"text-align: right;\">\n",
       "      <th></th>\n",
       "      <th>User_ID</th>\n",
       "      <th>Product_ID</th>\n",
       "      <th>Gender</th>\n",
       "      <th>Age</th>\n",
       "      <th>Occupation</th>\n",
       "      <th>City_Category</th>\n",
       "      <th>Stay_In_Current_City_Years</th>\n",
       "      <th>Marital_Status</th>\n",
       "      <th>Product_Category_1</th>\n",
       "      <th>Product_Category_2</th>\n",
       "      <th>Product_Category_3</th>\n",
       "    </tr>\n",
       "  </thead>\n",
       "  <tbody>\n",
       "    <tr>\n",
       "      <th>0</th>\n",
       "      <td>1000004</td>\n",
       "      <td>P00128942</td>\n",
       "      <td>M</td>\n",
       "      <td>46-50</td>\n",
       "      <td>7</td>\n",
       "      <td>B</td>\n",
       "      <td>2</td>\n",
       "      <td>1</td>\n",
       "      <td>1</td>\n",
       "      <td>11.0</td>\n",
       "      <td>9.0</td>\n",
       "    </tr>\n",
       "    <tr>\n",
       "      <th>1</th>\n",
       "      <td>1000009</td>\n",
       "      <td>P00113442</td>\n",
       "      <td>M</td>\n",
       "      <td>26-35</td>\n",
       "      <td>17</td>\n",
       "      <td>C</td>\n",
       "      <td>0</td>\n",
       "      <td>0</td>\n",
       "      <td>3</td>\n",
       "      <td>5.0</td>\n",
       "      <td>9.0</td>\n",
       "    </tr>\n",
       "    <tr>\n",
       "      <th>2</th>\n",
       "      <td>1000010</td>\n",
       "      <td>P00288442</td>\n",
       "      <td>F</td>\n",
       "      <td>36-45</td>\n",
       "      <td>1</td>\n",
       "      <td>B</td>\n",
       "      <td>4+</td>\n",
       "      <td>1</td>\n",
       "      <td>5</td>\n",
       "      <td>14.0</td>\n",
       "      <td>9.0</td>\n",
       "    </tr>\n",
       "    <tr>\n",
       "      <th>3</th>\n",
       "      <td>1000010</td>\n",
       "      <td>P00145342</td>\n",
       "      <td>F</td>\n",
       "      <td>36-45</td>\n",
       "      <td>1</td>\n",
       "      <td>B</td>\n",
       "      <td>4+</td>\n",
       "      <td>1</td>\n",
       "      <td>4</td>\n",
       "      <td>9.0</td>\n",
       "      <td>9.0</td>\n",
       "    </tr>\n",
       "    <tr>\n",
       "      <th>4</th>\n",
       "      <td>1000011</td>\n",
       "      <td>P00053842</td>\n",
       "      <td>F</td>\n",
       "      <td>26-35</td>\n",
       "      <td>1</td>\n",
       "      <td>C</td>\n",
       "      <td>1</td>\n",
       "      <td>0</td>\n",
       "      <td>4</td>\n",
       "      <td>5.0</td>\n",
       "      <td>12.0</td>\n",
       "    </tr>\n",
       "  </tbody>\n",
       "</table>\n",
       "</div>"
      ],
      "text/plain": [
       "   User_ID Product_ID Gender    Age  Occupation City_Category  \\\n",
       "0  1000004  P00128942      M  46-50           7             B   \n",
       "1  1000009  P00113442      M  26-35          17             C   \n",
       "2  1000010  P00288442      F  36-45           1             B   \n",
       "3  1000010  P00145342      F  36-45           1             B   \n",
       "4  1000011  P00053842      F  26-35           1             C   \n",
       "\n",
       "  Stay_In_Current_City_Years  Marital_Status  Product_Category_1  \\\n",
       "0                          2               1                   1   \n",
       "1                          0               0                   3   \n",
       "2                         4+               1                   5   \n",
       "3                         4+               1                   4   \n",
       "4                          1               0                   4   \n",
       "\n",
       "   Product_Category_2  Product_Category_3  \n",
       "0                11.0                 9.0  \n",
       "1                 5.0                 9.0  \n",
       "2                14.0                 9.0  \n",
       "3                 9.0                 9.0  \n",
       "4                 5.0                12.0  "
      ]
     },
     "execution_count": 64,
     "metadata": {},
     "output_type": "execute_result"
    }
   ],
   "source": [
    "#Now we are checking our test data set head before replcaing\n",
    "dftest.head()"
   ]
  },
  {
   "cell_type": "code",
   "execution_count": 66,
   "metadata": {},
   "outputs": [
    {
     "data": {
      "text/html": [
       "<div>\n",
       "<style scoped>\n",
       "    .dataframe tbody tr th:only-of-type {\n",
       "        vertical-align: middle;\n",
       "    }\n",
       "\n",
       "    .dataframe tbody tr th {\n",
       "        vertical-align: top;\n",
       "    }\n",
       "\n",
       "    .dataframe thead th {\n",
       "        text-align: right;\n",
       "    }\n",
       "</style>\n",
       "<table border=\"1\" class=\"dataframe\">\n",
       "  <thead>\n",
       "    <tr style=\"text-align: right;\">\n",
       "      <th></th>\n",
       "      <th>User_ID</th>\n",
       "      <th>Product_ID</th>\n",
       "      <th>Gender</th>\n",
       "      <th>Age</th>\n",
       "      <th>Occupation</th>\n",
       "      <th>City_Category</th>\n",
       "      <th>Stay_In_Current_City_Years</th>\n",
       "      <th>Marital_Status</th>\n",
       "      <th>Product_Category_1</th>\n",
       "      <th>Product_Category_2</th>\n",
       "      <th>Product_Category_3</th>\n",
       "    </tr>\n",
       "  </thead>\n",
       "  <tbody>\n",
       "    <tr>\n",
       "      <th>0</th>\n",
       "      <td>1000004</td>\n",
       "      <td>P00128942</td>\n",
       "      <td>0</td>\n",
       "      <td>4</td>\n",
       "      <td>7</td>\n",
       "      <td>1</td>\n",
       "      <td>2</td>\n",
       "      <td>1</td>\n",
       "      <td>1</td>\n",
       "      <td>11.0</td>\n",
       "      <td>9.0</td>\n",
       "    </tr>\n",
       "    <tr>\n",
       "      <th>1</th>\n",
       "      <td>1000009</td>\n",
       "      <td>P00113442</td>\n",
       "      <td>0</td>\n",
       "      <td>2</td>\n",
       "      <td>17</td>\n",
       "      <td>2</td>\n",
       "      <td>0</td>\n",
       "      <td>0</td>\n",
       "      <td>3</td>\n",
       "      <td>5.0</td>\n",
       "      <td>9.0</td>\n",
       "    </tr>\n",
       "    <tr>\n",
       "      <th>2</th>\n",
       "      <td>1000010</td>\n",
       "      <td>P00288442</td>\n",
       "      <td>1</td>\n",
       "      <td>3</td>\n",
       "      <td>1</td>\n",
       "      <td>1</td>\n",
       "      <td>4</td>\n",
       "      <td>1</td>\n",
       "      <td>5</td>\n",
       "      <td>14.0</td>\n",
       "      <td>9.0</td>\n",
       "    </tr>\n",
       "    <tr>\n",
       "      <th>3</th>\n",
       "      <td>1000010</td>\n",
       "      <td>P00145342</td>\n",
       "      <td>1</td>\n",
       "      <td>3</td>\n",
       "      <td>1</td>\n",
       "      <td>1</td>\n",
       "      <td>4</td>\n",
       "      <td>1</td>\n",
       "      <td>4</td>\n",
       "      <td>9.0</td>\n",
       "      <td>9.0</td>\n",
       "    </tr>\n",
       "    <tr>\n",
       "      <th>4</th>\n",
       "      <td>1000011</td>\n",
       "      <td>P00053842</td>\n",
       "      <td>1</td>\n",
       "      <td>2</td>\n",
       "      <td>1</td>\n",
       "      <td>2</td>\n",
       "      <td>1</td>\n",
       "      <td>0</td>\n",
       "      <td>4</td>\n",
       "      <td>5.0</td>\n",
       "      <td>12.0</td>\n",
       "    </tr>\n",
       "  </tbody>\n",
       "</table>\n",
       "</div>"
      ],
      "text/plain": [
       "   User_ID Product_ID  Gender  Age  Occupation  City_Category  \\\n",
       "0  1000004  P00128942       0    4           7              1   \n",
       "1  1000009  P00113442       0    2          17              2   \n",
       "2  1000010  P00288442       1    3           1              1   \n",
       "3  1000010  P00145342       1    3           1              1   \n",
       "4  1000011  P00053842       1    2           1              2   \n",
       "\n",
       "  Stay_In_Current_City_Years  Marital_Status  Product_Category_1  \\\n",
       "0                          2               1                   1   \n",
       "1                          0               0                   3   \n",
       "2                          4               1                   5   \n",
       "3                          4               1                   4   \n",
       "4                          1               0                   4   \n",
       "\n",
       "   Product_Category_2  Product_Category_3  \n",
       "0                11.0                 9.0  \n",
       "1                 5.0                 9.0  \n",
       "2                14.0                 9.0  \n",
       "3                 9.0                 9.0  \n",
       "4                 5.0                12.0  "
      ]
     },
     "execution_count": 66,
     "metadata": {},
     "output_type": "execute_result"
    }
   ],
   "source": [
    "#Now we are checking our test data set head after replcaing  \n",
    "dftest2.head()"
   ]
  },
  {
   "cell_type": "code",
   "execution_count": 67,
   "metadata": {},
   "outputs": [
    {
     "name": "stdout",
     "output_type": "stream",
     "text": [
      "There are 5891 unique users and 3631 unique products in the train set\n"
     ]
    }
   ],
   "source": [
    "#Here we are checking uniques values of the UserID and Product ID column of the train dataset\n",
    "unique_users = len(dftrain2.User_ID.unique())\n",
    "unique_products = len(dftrain2.Product_ID.unique())\n",
    "print('There are {} unique users and {} unique products in the train set'.format(unique_users, unique_products))"
   ]
  },
  {
   "cell_type": "code",
   "execution_count": 68,
   "metadata": {},
   "outputs": [
    {
     "name": "stdout",
     "output_type": "stream",
     "text": [
      "There are 5891 unique users and 3491 unique products in the test set\n"
     ]
    }
   ],
   "source": [
    "#Here we are checking uniques values of the UserID and Product ID column of the test dataset\n",
    "unique_users = len(dftest2.User_ID.unique())\n",
    "unique_products = len(dftest2.Product_ID.unique())\n",
    "print('There are {} unique users and {} unique products in the test set'.format(unique_users, unique_products))"
   ]
  },
  {
   "cell_type": "code",
   "execution_count": 69,
   "metadata": {},
   "outputs": [
    {
     "data": {
      "text/plain": [
       "User_ID\n",
       "1000001     35\n",
       "1000002     77\n",
       "1000003     29\n",
       "1000004     14\n",
       "1000005    106\n",
       "1000006     47\n",
       "1000007     17\n",
       "1000008     77\n",
       "1000009     58\n",
       "1000010    223\n",
       "1000011     70\n",
       "1000012     11\n",
       "1000013     60\n",
       "1000014     13\n",
       "1000015    117\n",
       "1000016     22\n",
       "1000017    115\n",
       "1000018    180\n",
       "1000019    145\n",
       "1000020     12\n",
       "1000021     14\n",
       "1000022    156\n",
       "1000023    171\n",
       "1000024     77\n",
       "1000025     44\n",
       "1000026    226\n",
       "1000027     42\n",
       "1000028     57\n",
       "1000029     52\n",
       "1000030     31\n",
       "          ... \n",
       "1006011    105\n",
       "1006012     16\n",
       "1006013     75\n",
       "1006014     59\n",
       "1006015     32\n",
       "1006016    504\n",
       "1006017     18\n",
       "1006018     82\n",
       "1006019     54\n",
       "1006020     23\n",
       "1006021     69\n",
       "1006022     27\n",
       "1006023     88\n",
       "1006024     60\n",
       "1006025    151\n",
       "1006026     47\n",
       "1006027     23\n",
       "1006028     28\n",
       "1006029     17\n",
       "1006030     59\n",
       "1006031     31\n",
       "1006032     55\n",
       "1006033     36\n",
       "1006034     12\n",
       "1006035    152\n",
       "1006036    514\n",
       "1006037    122\n",
       "1006038     12\n",
       "1006039     74\n",
       "1006040    180\n",
       "Length: 5891, dtype: int64"
      ]
     },
     "execution_count": 69,
     "metadata": {},
     "output_type": "execute_result"
    }
   ],
   "source": [
    "#Group User ID of the train data\n",
    "dftrain2.groupby('User_ID').size()"
   ]
  },
  {
   "cell_type": "code",
   "execution_count": 70,
   "metadata": {},
   "outputs": [
    {
     "data": {
      "text/plain": [
       "User_ID\n",
       "1000001     12\n",
       "1000002     30\n",
       "1000003     12\n",
       "1000004      1\n",
       "1000005     45\n",
       "1000006     11\n",
       "1000007      9\n",
       "1000008     33\n",
       "1000009     27\n",
       "1000010    101\n",
       "1000011     40\n",
       "1000012      9\n",
       "1000013     26\n",
       "1000014      9\n",
       "1000015     46\n",
       "1000016      4\n",
       "1000017     52\n",
       "1000018     58\n",
       "1000019     57\n",
       "1000020      5\n",
       "1000021      6\n",
       "1000022     79\n",
       "1000023     74\n",
       "1000024     30\n",
       "1000025     19\n",
       "1000026    100\n",
       "1000027     19\n",
       "1000028     32\n",
       "1000029     30\n",
       "1000030      7\n",
       "          ... \n",
       "1006011     46\n",
       "1006012      5\n",
       "1006013     28\n",
       "1006014     23\n",
       "1006015     18\n",
       "1006016    227\n",
       "1006017      8\n",
       "1006018     45\n",
       "1006019     15\n",
       "1006020     13\n",
       "1006021     33\n",
       "1006022     11\n",
       "1006023     31\n",
       "1006024     15\n",
       "1006025     78\n",
       "1006026     24\n",
       "1006027      6\n",
       "1006028      9\n",
       "1006029      6\n",
       "1006030     38\n",
       "1006031     10\n",
       "1006032     29\n",
       "1006033     16\n",
       "1006034      1\n",
       "1006035     67\n",
       "1006036    205\n",
       "1006037     41\n",
       "1006038      9\n",
       "1006039     29\n",
       "1006040     92\n",
       "Length: 5891, dtype: int64"
      ]
     },
     "execution_count": 70,
     "metadata": {},
     "output_type": "execute_result"
    }
   ],
   "source": [
    "#Group User ID of the test data\n",
    "dftest2.groupby('User_ID').size()"
   ]
  },
  {
   "cell_type": "code",
   "execution_count": 71,
   "metadata": {},
   "outputs": [
    {
     "data": {
      "text/plain": [
       "Product_ID\n",
       "P00000142    1152\n",
       "P00000242     376\n",
       "P00000342     244\n",
       "P00000442      92\n",
       "P00000542     149\n",
       "P00000642     512\n",
       "P00000742     241\n",
       "P00000842      36\n",
       "P00000942      55\n",
       "P00001042     503\n",
       "P00001142     578\n",
       "P00001242     100\n",
       "P00001342      62\n",
       "P00001442      85\n",
       "P00001542      69\n",
       "P00001642     354\n",
       "P00001742     461\n",
       "P00001842      76\n",
       "P00001942     211\n",
       "P00002042      93\n",
       "P00002142     735\n",
       "P00002242     198\n",
       "P00002342      67\n",
       "P00002442     330\n",
       "P00002542     539\n",
       "P00002642      63\n",
       "P00002742      40\n",
       "P00002842      84\n",
       "P00002942     224\n",
       "P00003042      37\n",
       "             ... \n",
       "P0096942      154\n",
       "P0097042       87\n",
       "P0097142      488\n",
       "P0097242      912\n",
       "P0097342      364\n",
       "P0097442        6\n",
       "P0097542        3\n",
       "P0097642        1\n",
       "P0097742      254\n",
       "P0097842      279\n",
       "P0097942       62\n",
       "P0098042       20\n",
       "P0098142       43\n",
       "P0098242      233\n",
       "P0098342      255\n",
       "P0098442       72\n",
       "P0098542       46\n",
       "P0098642       27\n",
       "P0098742       47\n",
       "P0098842       10\n",
       "P0098942       33\n",
       "P0099042      144\n",
       "P0099142        7\n",
       "P0099242      257\n",
       "P0099342      440\n",
       "P0099442      200\n",
       "P0099642       13\n",
       "P0099742      126\n",
       "P0099842      102\n",
       "P0099942       14\n",
       "Length: 3631, dtype: int64"
      ]
     },
     "execution_count": 71,
     "metadata": {},
     "output_type": "execute_result"
    }
   ],
   "source": [
    "#Group Product ID of the train data\n",
    "dftrain2.groupby('Product_ID').size()"
   ]
  },
  {
   "cell_type": "code",
   "execution_count": 72,
   "metadata": {},
   "outputs": [
    {
     "data": {
      "text/plain": [
       "Product_ID\n",
       "P00000142    484\n",
       "P00000242    170\n",
       "P00000342    105\n",
       "P00000442     34\n",
       "P00000542     80\n",
       "P00000642    213\n",
       "P00000742    112\n",
       "P00000842     18\n",
       "P00000942     23\n",
       "P00001042    207\n",
       "P00001142    251\n",
       "P00001242     29\n",
       "P00001342     19\n",
       "P00001442     37\n",
       "P00001542     33\n",
       "P00001642    151\n",
       "P00001742    201\n",
       "P00001842     43\n",
       "P00001942     95\n",
       "P00002042     41\n",
       "P00002142    311\n",
       "P00002242     88\n",
       "P00002342     29\n",
       "P00002442    151\n",
       "P00002542    243\n",
       "P00002642     19\n",
       "P00002742      6\n",
       "P00002842     53\n",
       "P00002942     85\n",
       "P00003042     18\n",
       "            ... \n",
       "P0096942      70\n",
       "P0097042      43\n",
       "P0097142     217\n",
       "P0097242     392\n",
       "P0097342     124\n",
       "P0097442       3\n",
       "P0097642       1\n",
       "P0097742     118\n",
       "P0097842     135\n",
       "P0097942      17\n",
       "P0098042       7\n",
       "P0098142      29\n",
       "P0098242      95\n",
       "P0098342     103\n",
       "P0098442      38\n",
       "P0098542      32\n",
       "P0098642       6\n",
       "P0098742      17\n",
       "P0098842       3\n",
       "P0098942      10\n",
       "P0099042      71\n",
       "P0099142       2\n",
       "P0099242     108\n",
       "P0099342     170\n",
       "P0099442      92\n",
       "P0099542       1\n",
       "P0099642       7\n",
       "P0099742      44\n",
       "P0099842      33\n",
       "P0099942       4\n",
       "Length: 3491, dtype: int64"
      ]
     },
     "execution_count": 72,
     "metadata": {},
     "output_type": "execute_result"
    }
   ],
   "source": [
    "#Group Product ID of the test data\n",
    "dftest2.groupby('Product_ID').size()"
   ]
  },
  {
   "cell_type": "code",
   "execution_count": 73,
   "metadata": {},
   "outputs": [],
   "source": [
    "#Import label encoder \n",
    "from sklearn.preprocessing import LabelEncoder\n",
    "le = LabelEncoder()"
   ]
  },
  {
   "cell_type": "code",
   "execution_count": 74,
   "metadata": {},
   "outputs": [],
   "source": [
    "#Now we will copy our data frame to a new DaTA Frame\n",
    "dftrain3=dftrain2.copy()"
   ]
  },
  {
   "cell_type": "code",
   "execution_count": 75,
   "metadata": {},
   "outputs": [],
   "source": [
    "#Now we will copy our data frame to a new DaTA Frame\n",
    "dftest3=dftest2.copy()"
   ]
  },
  {
   "cell_type": "code",
   "execution_count": 76,
   "metadata": {},
   "outputs": [
    {
     "data": {
      "text/html": [
       "<div>\n",
       "<style scoped>\n",
       "    .dataframe tbody tr th:only-of-type {\n",
       "        vertical-align: middle;\n",
       "    }\n",
       "\n",
       "    .dataframe tbody tr th {\n",
       "        vertical-align: top;\n",
       "    }\n",
       "\n",
       "    .dataframe thead th {\n",
       "        text-align: right;\n",
       "    }\n",
       "</style>\n",
       "<table border=\"1\" class=\"dataframe\">\n",
       "  <thead>\n",
       "    <tr style=\"text-align: right;\">\n",
       "      <th></th>\n",
       "      <th>User_ID</th>\n",
       "      <th>Product_ID</th>\n",
       "      <th>Gender</th>\n",
       "      <th>Age</th>\n",
       "      <th>Occupation</th>\n",
       "      <th>City_Category</th>\n",
       "      <th>Stay_In_Current_City_Years</th>\n",
       "      <th>Marital_Status</th>\n",
       "      <th>Product_Category_1</th>\n",
       "      <th>Product_Category_2</th>\n",
       "      <th>Product_Category_3</th>\n",
       "      <th>Purchase</th>\n",
       "    </tr>\n",
       "  </thead>\n",
       "  <tbody>\n",
       "    <tr>\n",
       "      <th>0</th>\n",
       "      <td>1000001</td>\n",
       "      <td>P00069042</td>\n",
       "      <td>1</td>\n",
       "      <td>0</td>\n",
       "      <td>10</td>\n",
       "      <td>0</td>\n",
       "      <td>2</td>\n",
       "      <td>0</td>\n",
       "      <td>3</td>\n",
       "      <td>9.0</td>\n",
       "      <td>14.0</td>\n",
       "      <td>8370</td>\n",
       "    </tr>\n",
       "    <tr>\n",
       "      <th>1</th>\n",
       "      <td>1000001</td>\n",
       "      <td>P00248942</td>\n",
       "      <td>1</td>\n",
       "      <td>0</td>\n",
       "      <td>10</td>\n",
       "      <td>0</td>\n",
       "      <td>2</td>\n",
       "      <td>0</td>\n",
       "      <td>1</td>\n",
       "      <td>6.0</td>\n",
       "      <td>14.0</td>\n",
       "      <td>15200</td>\n",
       "    </tr>\n",
       "    <tr>\n",
       "      <th>2</th>\n",
       "      <td>1000001</td>\n",
       "      <td>P00087842</td>\n",
       "      <td>1</td>\n",
       "      <td>0</td>\n",
       "      <td>10</td>\n",
       "      <td>0</td>\n",
       "      <td>2</td>\n",
       "      <td>0</td>\n",
       "      <td>12</td>\n",
       "      <td>9.0</td>\n",
       "      <td>14.0</td>\n",
       "      <td>1422</td>\n",
       "    </tr>\n",
       "    <tr>\n",
       "      <th>3</th>\n",
       "      <td>1000001</td>\n",
       "      <td>P00085442</td>\n",
       "      <td>1</td>\n",
       "      <td>0</td>\n",
       "      <td>10</td>\n",
       "      <td>0</td>\n",
       "      <td>2</td>\n",
       "      <td>0</td>\n",
       "      <td>12</td>\n",
       "      <td>14.0</td>\n",
       "      <td>14.0</td>\n",
       "      <td>1057</td>\n",
       "    </tr>\n",
       "    <tr>\n",
       "      <th>4</th>\n",
       "      <td>1000002</td>\n",
       "      <td>P00285442</td>\n",
       "      <td>0</td>\n",
       "      <td>6</td>\n",
       "      <td>16</td>\n",
       "      <td>2</td>\n",
       "      <td>4</td>\n",
       "      <td>0</td>\n",
       "      <td>8</td>\n",
       "      <td>9.0</td>\n",
       "      <td>14.0</td>\n",
       "      <td>7969</td>\n",
       "    </tr>\n",
       "  </tbody>\n",
       "</table>\n",
       "</div>"
      ],
      "text/plain": [
       "   User_ID Product_ID  Gender  Age  Occupation  City_Category  \\\n",
       "0  1000001  P00069042       1    0          10              0   \n",
       "1  1000001  P00248942       1    0          10              0   \n",
       "2  1000001  P00087842       1    0          10              0   \n",
       "3  1000001  P00085442       1    0          10              0   \n",
       "4  1000002  P00285442       0    6          16              2   \n",
       "\n",
       "  Stay_In_Current_City_Years  Marital_Status  Product_Category_1  \\\n",
       "0                          2               0                   3   \n",
       "1                          2               0                   1   \n",
       "2                          2               0                  12   \n",
       "3                          2               0                  12   \n",
       "4                          4               0                   8   \n",
       "\n",
       "   Product_Category_2  Product_Category_3  Purchase  \n",
       "0                 9.0                14.0      8370  \n",
       "1                 6.0                14.0     15200  \n",
       "2                 9.0                14.0      1422  \n",
       "3                14.0                14.0      1057  \n",
       "4                 9.0                14.0      7969  "
      ]
     },
     "execution_count": 76,
     "metadata": {},
     "output_type": "execute_result"
    }
   ],
   "source": [
    "dftrain3.head()"
   ]
  },
  {
   "cell_type": "code",
   "execution_count": 77,
   "metadata": {},
   "outputs": [],
   "source": [
    "#Label encoding on Product ID column of the new data frame so we can easily use them in a machine learning algorthim\n",
    "dftrain3['Product_ID']=le.fit_transform(dftrain3['Product_ID'])"
   ]
  },
  {
   "cell_type": "code",
   "execution_count": 78,
   "metadata": {},
   "outputs": [],
   "source": [
    "#Label encoding on Product ID column of new data frame so we can easily use them in a machine learning algorthim\n",
    "dftest3['Product_ID']=le.fit_transform(dftest3['Product_ID'])"
   ]
  },
  {
   "cell_type": "code",
   "execution_count": 79,
   "metadata": {},
   "outputs": [
    {
     "data": {
      "text/html": [
       "<div>\n",
       "<style scoped>\n",
       "    .dataframe tbody tr th:only-of-type {\n",
       "        vertical-align: middle;\n",
       "    }\n",
       "\n",
       "    .dataframe tbody tr th {\n",
       "        vertical-align: top;\n",
       "    }\n",
       "\n",
       "    .dataframe thead th {\n",
       "        text-align: right;\n",
       "    }\n",
       "</style>\n",
       "<table border=\"1\" class=\"dataframe\">\n",
       "  <thead>\n",
       "    <tr style=\"text-align: right;\">\n",
       "      <th></th>\n",
       "      <th>User_ID</th>\n",
       "      <th>Product_ID</th>\n",
       "      <th>Gender</th>\n",
       "      <th>Age</th>\n",
       "      <th>Occupation</th>\n",
       "      <th>City_Category</th>\n",
       "      <th>Stay_In_Current_City_Years</th>\n",
       "      <th>Marital_Status</th>\n",
       "      <th>Product_Category_1</th>\n",
       "      <th>Product_Category_2</th>\n",
       "      <th>Product_Category_3</th>\n",
       "      <th>Purchase</th>\n",
       "    </tr>\n",
       "  </thead>\n",
       "  <tbody>\n",
       "    <tr>\n",
       "      <th>0</th>\n",
       "      <td>1000001</td>\n",
       "      <td>672</td>\n",
       "      <td>1</td>\n",
       "      <td>0</td>\n",
       "      <td>10</td>\n",
       "      <td>0</td>\n",
       "      <td>2</td>\n",
       "      <td>0</td>\n",
       "      <td>3</td>\n",
       "      <td>9.0</td>\n",
       "      <td>14.0</td>\n",
       "      <td>8370</td>\n",
       "    </tr>\n",
       "    <tr>\n",
       "      <th>1</th>\n",
       "      <td>1000001</td>\n",
       "      <td>2376</td>\n",
       "      <td>1</td>\n",
       "      <td>0</td>\n",
       "      <td>10</td>\n",
       "      <td>0</td>\n",
       "      <td>2</td>\n",
       "      <td>0</td>\n",
       "      <td>1</td>\n",
       "      <td>6.0</td>\n",
       "      <td>14.0</td>\n",
       "      <td>15200</td>\n",
       "    </tr>\n",
       "    <tr>\n",
       "      <th>2</th>\n",
       "      <td>1000001</td>\n",
       "      <td>852</td>\n",
       "      <td>1</td>\n",
       "      <td>0</td>\n",
       "      <td>10</td>\n",
       "      <td>0</td>\n",
       "      <td>2</td>\n",
       "      <td>0</td>\n",
       "      <td>12</td>\n",
       "      <td>9.0</td>\n",
       "      <td>14.0</td>\n",
       "      <td>1422</td>\n",
       "    </tr>\n",
       "    <tr>\n",
       "      <th>3</th>\n",
       "      <td>1000001</td>\n",
       "      <td>828</td>\n",
       "      <td>1</td>\n",
       "      <td>0</td>\n",
       "      <td>10</td>\n",
       "      <td>0</td>\n",
       "      <td>2</td>\n",
       "      <td>0</td>\n",
       "      <td>12</td>\n",
       "      <td>14.0</td>\n",
       "      <td>14.0</td>\n",
       "      <td>1057</td>\n",
       "    </tr>\n",
       "    <tr>\n",
       "      <th>4</th>\n",
       "      <td>1000002</td>\n",
       "      <td>2734</td>\n",
       "      <td>0</td>\n",
       "      <td>6</td>\n",
       "      <td>16</td>\n",
       "      <td>2</td>\n",
       "      <td>4</td>\n",
       "      <td>0</td>\n",
       "      <td>8</td>\n",
       "      <td>9.0</td>\n",
       "      <td>14.0</td>\n",
       "      <td>7969</td>\n",
       "    </tr>\n",
       "  </tbody>\n",
       "</table>\n",
       "</div>"
      ],
      "text/plain": [
       "   User_ID  Product_ID  Gender  Age  Occupation  City_Category  \\\n",
       "0  1000001         672       1    0          10              0   \n",
       "1  1000001        2376       1    0          10              0   \n",
       "2  1000001         852       1    0          10              0   \n",
       "3  1000001         828       1    0          10              0   \n",
       "4  1000002        2734       0    6          16              2   \n",
       "\n",
       "  Stay_In_Current_City_Years  Marital_Status  Product_Category_1  \\\n",
       "0                          2               0                   3   \n",
       "1                          2               0                   1   \n",
       "2                          2               0                  12   \n",
       "3                          2               0                  12   \n",
       "4                          4               0                   8   \n",
       "\n",
       "   Product_Category_2  Product_Category_3  Purchase  \n",
       "0                 9.0                14.0      8370  \n",
       "1                 6.0                14.0     15200  \n",
       "2                 9.0                14.0      1422  \n",
       "3                14.0                14.0      1057  \n",
       "4                 9.0                14.0      7969  "
      ]
     },
     "execution_count": 79,
     "metadata": {},
     "output_type": "execute_result"
    }
   ],
   "source": [
    "dftrain3.head()"
   ]
  },
  {
   "cell_type": "code",
   "execution_count": 80,
   "metadata": {},
   "outputs": [
    {
     "data": {
      "text/html": [
       "<div>\n",
       "<style scoped>\n",
       "    .dataframe tbody tr th:only-of-type {\n",
       "        vertical-align: middle;\n",
       "    }\n",
       "\n",
       "    .dataframe tbody tr th {\n",
       "        vertical-align: top;\n",
       "    }\n",
       "\n",
       "    .dataframe thead th {\n",
       "        text-align: right;\n",
       "    }\n",
       "</style>\n",
       "<table border=\"1\" class=\"dataframe\">\n",
       "  <thead>\n",
       "    <tr style=\"text-align: right;\">\n",
       "      <th></th>\n",
       "      <th>User_ID</th>\n",
       "      <th>Product_ID</th>\n",
       "      <th>Gender</th>\n",
       "      <th>Age</th>\n",
       "      <th>Occupation</th>\n",
       "      <th>City_Category</th>\n",
       "      <th>Stay_In_Current_City_Years</th>\n",
       "      <th>Marital_Status</th>\n",
       "      <th>Product_Category_1</th>\n",
       "      <th>Product_Category_2</th>\n",
       "      <th>Product_Category_3</th>\n",
       "    </tr>\n",
       "  </thead>\n",
       "  <tbody>\n",
       "    <tr>\n",
       "      <th>0</th>\n",
       "      <td>1000004</td>\n",
       "      <td>1144</td>\n",
       "      <td>0</td>\n",
       "      <td>4</td>\n",
       "      <td>7</td>\n",
       "      <td>1</td>\n",
       "      <td>2</td>\n",
       "      <td>1</td>\n",
       "      <td>1</td>\n",
       "      <td>11.0</td>\n",
       "      <td>9.0</td>\n",
       "    </tr>\n",
       "    <tr>\n",
       "      <th>1</th>\n",
       "      <td>1000009</td>\n",
       "      <td>994</td>\n",
       "      <td>0</td>\n",
       "      <td>2</td>\n",
       "      <td>17</td>\n",
       "      <td>2</td>\n",
       "      <td>0</td>\n",
       "      <td>0</td>\n",
       "      <td>3</td>\n",
       "      <td>5.0</td>\n",
       "      <td>9.0</td>\n",
       "    </tr>\n",
       "    <tr>\n",
       "      <th>2</th>\n",
       "      <td>1000010</td>\n",
       "      <td>2672</td>\n",
       "      <td>1</td>\n",
       "      <td>3</td>\n",
       "      <td>1</td>\n",
       "      <td>1</td>\n",
       "      <td>4</td>\n",
       "      <td>1</td>\n",
       "      <td>5</td>\n",
       "      <td>14.0</td>\n",
       "      <td>9.0</td>\n",
       "    </tr>\n",
       "    <tr>\n",
       "      <th>3</th>\n",
       "      <td>1000010</td>\n",
       "      <td>1299</td>\n",
       "      <td>1</td>\n",
       "      <td>3</td>\n",
       "      <td>1</td>\n",
       "      <td>1</td>\n",
       "      <td>4</td>\n",
       "      <td>1</td>\n",
       "      <td>4</td>\n",
       "      <td>9.0</td>\n",
       "      <td>9.0</td>\n",
       "    </tr>\n",
       "    <tr>\n",
       "      <th>4</th>\n",
       "      <td>1000011</td>\n",
       "      <td>519</td>\n",
       "      <td>1</td>\n",
       "      <td>2</td>\n",
       "      <td>1</td>\n",
       "      <td>2</td>\n",
       "      <td>1</td>\n",
       "      <td>0</td>\n",
       "      <td>4</td>\n",
       "      <td>5.0</td>\n",
       "      <td>12.0</td>\n",
       "    </tr>\n",
       "  </tbody>\n",
       "</table>\n",
       "</div>"
      ],
      "text/plain": [
       "   User_ID  Product_ID  Gender  Age  Occupation  City_Category  \\\n",
       "0  1000004        1144       0    4           7              1   \n",
       "1  1000009         994       0    2          17              2   \n",
       "2  1000010        2672       1    3           1              1   \n",
       "3  1000010        1299       1    3           1              1   \n",
       "4  1000011         519       1    2           1              2   \n",
       "\n",
       "  Stay_In_Current_City_Years  Marital_Status  Product_Category_1  \\\n",
       "0                          2               1                   1   \n",
       "1                          0               0                   3   \n",
       "2                          4               1                   5   \n",
       "3                          4               1                   4   \n",
       "4                          1               0                   4   \n",
       "\n",
       "   Product_Category_2  Product_Category_3  \n",
       "0                11.0                 9.0  \n",
       "1                 5.0                 9.0  \n",
       "2                14.0                 9.0  \n",
       "3                 9.0                 9.0  \n",
       "4                 5.0                12.0  "
      ]
     },
     "execution_count": 80,
     "metadata": {},
     "output_type": "execute_result"
    }
   ],
   "source": [
    "dftest3.head()"
   ]
  },
  {
   "cell_type": "code",
   "execution_count": 81,
   "metadata": {},
   "outputs": [],
   "source": [
    "#Here we divide our train set data columns (predictors)\n",
    "Xtrain=dftrain3[['User_ID','Product_ID','Gender','Age','Occupation','City_Category','Stay_In_Current_City_Years','Marital_Status','Product_Category_1','Product_Category_2','Product_Category_3']]"
   ]
  },
  {
   "cell_type": "code",
   "execution_count": 82,
   "metadata": {},
   "outputs": [],
   "source": [
    "#This will be the predictions\n",
    "Ytrain=dftrain3['Purchase']"
   ]
  },
  {
   "cell_type": "code",
   "execution_count": 83,
   "metadata": {},
   "outputs": [],
   "source": [
    "#Here we divide our test set data columns (predictors)\n",
    "Xtest=dftest3[['User_ID','Product_ID','Gender','Age','Occupation','City_Category','Stay_In_Current_City_Years','Marital_Status','Product_Category_1','Product_Category_2','Product_Category_3']]"
   ]
  },
  {
   "cell_type": "code",
   "execution_count": 84,
   "metadata": {},
   "outputs": [],
   "source": [
    "#Here we will apply Rndom Forest Machine learning algorthim\n",
    "from sklearn.ensemble import RandomForestRegressor"
   ]
  },
  {
   "cell_type": "code",
   "execution_count": 85,
   "metadata": {},
   "outputs": [],
   "source": [
    "#Here we choose n_estimators and random state\n",
    "model = RandomForestRegressor(n_estimators = 10, random_state = 42)"
   ]
  },
  {
   "cell_type": "code",
   "execution_count": 86,
   "metadata": {},
   "outputs": [
    {
     "data": {
      "text/plain": [
       "RandomForestRegressor(bootstrap=True, criterion='mse', max_depth=None,\n",
       "           max_features='auto', max_leaf_nodes=None,\n",
       "           min_impurity_decrease=0.0, min_impurity_split=None,\n",
       "           min_samples_leaf=1, min_samples_split=2,\n",
       "           min_weight_fraction_leaf=0.0, n_estimators=10, n_jobs=None,\n",
       "           oob_score=False, random_state=42, verbose=0, warm_start=False)"
      ]
     },
     "execution_count": 86,
     "metadata": {},
     "output_type": "execute_result"
    }
   ],
   "source": [
    "#Train data\n",
    "model.fit(Xtrain,Ytrain)"
   ]
  },
  {
   "cell_type": "code",
   "execution_count": 87,
   "metadata": {},
   "outputs": [],
   "source": [
    "#This is the predictions that we predicted from ourtest data\n",
    "predictions = model.predict(Xtest)"
   ]
  },
  {
   "cell_type": "code",
   "execution_count": 88,
   "metadata": {},
   "outputs": [],
   "source": [
    "predictions2 = [round(x) for x in predictions]"
   ]
  },
  {
   "cell_type": "code",
   "execution_count": 89,
   "metadata": {},
   "outputs": [
    {
     "data": {
      "text/plain": [
       "[14475.0,\n",
       " 10742.0,\n",
       " 4069.0,\n",
       " 1994.0,\n",
       " 2719.0,\n",
       " 9809.0,\n",
       " 9471.0,\n",
       " 8850.0,\n",
       " 15587.0,\n",
       " 4979.0,\n",
       " 14125.0,\n",
       " 3790.0,\n",
       " 6049.0,\n",
       " 6279.0,\n",
       " 17515.0,\n",
       " 11468.0,\n",
       " 15453.0,\n",
       " 7209.0,\n",
       " 6854.0,\n",
       " 7855.0,\n",
       " 5695.0,\n",
       " 15500.0,\n",
       " 15328.0,\n",
       " 8639.0,\n",
       " 2688.0,\n",
       " 4479.0,\n",
       " 17452.0,\n",
       " 9437.0,\n",
       " 15564.0,\n",
       " 11617.0,\n",
       " 7575.0,\n",
       " 4448.0,\n",
       " 6736.0,\n",
       " 10253.0,\n",
       " 2646.0,\n",
       " 5130.0,\n",
       " 5968.0,\n",
       " 13196.0,\n",
       " 7394.0,\n",
       " 8966.0,\n",
       " 11028.0,\n",
       " 7193.0,\n",
       " 12161.0,\n",
       " 7106.0,\n",
       " 6547.0,\n",
       " 6807.0,\n",
       " 2559.0,\n",
       " 5535.0,\n",
       " 7239.0,\n",
       " 7579.0,\n",
       " 6787.0,\n",
       " 7726.0,\n",
       " 5605.0,\n",
       " 16080.0,\n",
       " 14887.0,\n",
       " 12570.0,\n",
       " 15199.0,\n",
       " 827.0,\n",
       " 14084.0,\n",
       " 15970.0,\n",
       " 15245.0,\n",
       " 15833.0,\n",
       " 7336.0,\n",
       " 14763.0,\n",
       " 13671.0,\n",
       " 10418.0,\n",
       " 8286.0,\n",
       " 13283.0,\n",
       " 13164.0,\n",
       " 14115.0,\n",
       " 5307.0,\n",
       " 6189.0,\n",
       " 5851.0,\n",
       " 12886.0,\n",
       " 19675.0,\n",
       " 4466.0,\n",
       " 12359.0,\n",
       " 4031.0,\n",
       " 12756.0,\n",
       " 13589.0,\n",
       " 11783.0,\n",
       " 5665.0,\n",
       " 7318.0,\n",
       " 6033.0,\n",
       " 5982.0,\n",
       " 15594.0,\n",
       " 9038.0,\n",
       " 14475.0,\n",
       " 6903.0,\n",
       " 8375.0,\n",
       " 7350.0,\n",
       " 8001.0,\n",
       " 852.0,\n",
       " 16955.0,\n",
       " 5484.0,\n",
       " 4262.0,\n",
       " 12500.0,\n",
       " 12396.0,\n",
       " 5964.0,\n",
       " 14109.0,\n",
       " 7083.0,\n",
       " 15768.0,\n",
       " 13123.0,\n",
       " 7944.0,\n",
       " 17912.0,\n",
       " 6964.0,\n",
       " 6889.0,\n",
       " 7666.0,\n",
       " 7735.0,\n",
       " 4972.0,\n",
       " 1483.0,\n",
       " 7123.0,\n",
       " 7252.0,\n",
       " 7365.0,\n",
       " 7740.0,\n",
       " 6338.0,\n",
       " 6015.0,\n",
       " 16742.0,\n",
       " 5919.0,\n",
       " 15000.0,\n",
       " 5802.0,\n",
       " 4845.0,\n",
       " 17308.0,\n",
       " 17459.0,\n",
       " 4946.0,\n",
       " 4934.0,\n",
       " 10562.0,\n",
       " 4384.0,\n",
       " 1739.0,\n",
       " 2366.0,\n",
       " 11816.0,\n",
       " 4614.0,\n",
       " 9534.0,\n",
       " 15618.0,\n",
       " 3857.0,\n",
       " 7896.0,\n",
       " 9301.0,\n",
       " 11110.0,\n",
       " 8198.0,\n",
       " 5569.0,\n",
       " 13672.0,\n",
       " 15611.0,\n",
       " 4776.0,\n",
       " 15593.0,\n",
       " 12588.0,\n",
       " 5948.0,\n",
       " 739.0,\n",
       " 17854.0,\n",
       " 21339.0,\n",
       " 7880.0,\n",
       " 7997.0,\n",
       " 16127.0,\n",
       " 14242.0,\n",
       " 4816.0,\n",
       " 11674.0,\n",
       " 17506.0,\n",
       " 3694.0,\n",
       " 6794.0,\n",
       " 5340.0,\n",
       " 7152.0,\n",
       " 5090.0,\n",
       " 7536.0,\n",
       " 11914.0,\n",
       " 14002.0,\n",
       " 6371.0,\n",
       " 14292.0,\n",
       " 11665.0,\n",
       " 4722.0,\n",
       " 8332.0,\n",
       " 5333.0,\n",
       " 11652.0,\n",
       " 11834.0,\n",
       " 7424.0,\n",
       " 15733.0,\n",
       " 11407.0,\n",
       " 6123.0,\n",
       " 6825.0,\n",
       " 4293.0,\n",
       " 7451.0,\n",
       " 9207.0,\n",
       " 6931.0,\n",
       " 7350.0,\n",
       " 12134.0,\n",
       " 15819.0,\n",
       " 5968.0,\n",
       " 9296.0,\n",
       " 11787.0,\n",
       " 7762.0,\n",
       " 15272.0,\n",
       " 4254.0,\n",
       " 11776.0,\n",
       " 7808.0,\n",
       " 8197.0,\n",
       " 6692.0,\n",
       " 13876.0,\n",
       " 985.0,\n",
       " 5388.0,\n",
       " 7135.0,\n",
       " 9583.0,\n",
       " 13882.0,\n",
       " 5837.0,\n",
       " 4836.0,\n",
       " 534.0,\n",
       " 5985.0,\n",
       " 4138.0,\n",
       " 8711.0,\n",
       " 13563.0,\n",
       " 7006.0,\n",
       " 6502.0,\n",
       " 7018.0,\n",
       " 4850.0,\n",
       " 15493.0,\n",
       " 17211.0,\n",
       " 5209.0,\n",
       " 13261.0,\n",
       " 13268.0,\n",
       " 7762.0,\n",
       " 7819.0,\n",
       " 4568.0,\n",
       " 12022.0,\n",
       " 4140.0,\n",
       " 13688.0,\n",
       " 3867.0,\n",
       " 13752.0,\n",
       " 5214.0,\n",
       " 11010.0,\n",
       " 6747.0,\n",
       " 10406.0,\n",
       " 3234.0,\n",
       " 11740.0,\n",
       " 7731.0,\n",
       " 13688.0,\n",
       " 1428.0,\n",
       " 5287.0,\n",
       " 6227.0,\n",
       " 5056.0,\n",
       " 12488.0,\n",
       " 3321.0,\n",
       " 5252.0,\n",
       " 7821.0,\n",
       " 727.0,\n",
       " 10570.0,\n",
       " 12980.0,\n",
       " 7104.0,\n",
       " 5439.0,\n",
       " 4120.0,\n",
       " 10852.0,\n",
       " 5959.0,\n",
       " 8941.0,\n",
       " 6594.0,\n",
       " 6790.0,\n",
       " 12605.0,\n",
       " 15022.0,\n",
       " 4102.0,\n",
       " 13366.0,\n",
       " 15181.0,\n",
       " 5173.0,\n",
       " 3955.0,\n",
       " 6331.0,\n",
       " 12673.0,\n",
       " 6369.0,\n",
       " 5293.0,\n",
       " 6355.0,\n",
       " 6065.0,\n",
       " 4314.0,\n",
       " 9150.0,\n",
       " 10301.0,\n",
       " 7370.0,\n",
       " 7484.0,\n",
       " 5148.0,\n",
       " 13343.0,\n",
       " 7875.0,\n",
       " 7360.0,\n",
       " 15160.0,\n",
       " 7081.0,\n",
       " 5654.0,\n",
       " 13320.0,\n",
       " 8264.0,\n",
       " 9878.0,\n",
       " 12628.0,\n",
       " 6634.0,\n",
       " 15187.0,\n",
       " 6560.0,\n",
       " 6801.0,\n",
       " 5352.0,\n",
       " 20286.0,\n",
       " 6645.0,\n",
       " 13262.0,\n",
       " 4478.0,\n",
       " 10944.0,\n",
       " 11450.0,\n",
       " 17100.0,\n",
       " 8479.0,\n",
       " 7119.0,\n",
       " 7312.0,\n",
       " 15964.0,\n",
       " 6690.0,\n",
       " 14873.0,\n",
       " 7214.0,\n",
       " 4560.0,\n",
       " 10506.0,\n",
       " 13280.0,\n",
       " 854.0,\n",
       " 5137.0,\n",
       " 14030.0,\n",
       " 8494.0,\n",
       " 7794.0,\n",
       " 7174.0,\n",
       " 13721.0,\n",
       " 2339.0,\n",
       " 7744.0,\n",
       " 14501.0,\n",
       " 6947.0,\n",
       " 5176.0,\n",
       " 13805.0,\n",
       " 11997.0,\n",
       " 13844.0,\n",
       " 15571.0,\n",
       " 5796.0,\n",
       " 6704.0,\n",
       " 6354.0,\n",
       " 12885.0,\n",
       " 6767.0,\n",
       " 6682.0,\n",
       " 5140.0,\n",
       " 4218.0,\n",
       " 6613.0,\n",
       " 6591.0,\n",
       " 646.0,\n",
       " 12302.0,\n",
       " 15118.0,\n",
       " 12461.0,\n",
       " 9068.0,\n",
       " 4258.0,\n",
       " 7264.0,\n",
       " 12026.0,\n",
       " 7207.0,\n",
       " 7233.0,\n",
       " 8054.0,\n",
       " 12070.0,\n",
       " 8565.0,\n",
       " 4679.0,\n",
       " 6729.0,\n",
       " 4816.0,\n",
       " 14414.0,\n",
       " 11705.0,\n",
       " 16012.0,\n",
       " 13406.0,\n",
       " 3730.0,\n",
       " 8598.0,\n",
       " 8025.0,\n",
       " 6941.0,\n",
       " 5135.0,\n",
       " 11185.0,\n",
       " 20725.0,\n",
       " 7970.0,\n",
       " 8022.0,\n",
       " 3159.0,\n",
       " 14348.0,\n",
       " 10802.0,\n",
       " 14089.0,\n",
       " 14460.0,\n",
       " 10647.0,\n",
       " 5672.0,\n",
       " 14118.0,\n",
       " 15975.0,\n",
       " 7890.0,\n",
       " 13926.0,\n",
       " 16047.0,\n",
       " 9262.0,\n",
       " 9428.0,\n",
       " 7880.0,\n",
       " 6618.0,\n",
       " 9874.0,\n",
       " 4607.0,\n",
       " 7390.0,\n",
       " 14734.0,\n",
       " 4984.0,\n",
       " 15317.0,\n",
       " 17788.0,\n",
       " 15791.0,\n",
       " 15066.0,\n",
       " 10693.0,\n",
       " 4630.0,\n",
       " 5606.0,\n",
       " 6605.0,\n",
       " 5651.0,\n",
       " 7792.0,\n",
       " 4672.0,\n",
       " 19293.0,\n",
       " 4226.0,\n",
       " 4943.0,\n",
       " 6789.0,\n",
       " 14233.0,\n",
       " 15596.0,\n",
       " 5613.0,\n",
       " 3366.0,\n",
       " 4476.0,\n",
       " 477.0,\n",
       " 3701.0,\n",
       " 7272.0,\n",
       " 14341.0,\n",
       " 14467.0,\n",
       " 5100.0,\n",
       " 7940.0,\n",
       " 8596.0,\n",
       " 12092.0,\n",
       " 16639.0,\n",
       " 3828.0,\n",
       " 5659.0,\n",
       " 4934.0,\n",
       " 7055.0,\n",
       " 7368.0,\n",
       " 14432.0,\n",
       " 6150.0,\n",
       " 5531.0,\n",
       " 7331.0,\n",
       " 7954.0,\n",
       " 2317.0,\n",
       " 5298.0,\n",
       " 7239.0,\n",
       " 14724.0,\n",
       " 12694.0,\n",
       " 6514.0,\n",
       " 3942.0,\n",
       " 9886.0,\n",
       " 9080.0,\n",
       " 14730.0,\n",
       " 3671.0,\n",
       " 7015.0,\n",
       " 5268.0,\n",
       " 2397.0,\n",
       " 12488.0,\n",
       " 5968.0,\n",
       " 10622.0,\n",
       " 12246.0,\n",
       " 11980.0,\n",
       " 9132.0,\n",
       " 7295.0,\n",
       " 5833.0,\n",
       " 7036.0,\n",
       " 5115.0,\n",
       " 11330.0,\n",
       " 9790.0,\n",
       " 13234.0,\n",
       " 4626.0,\n",
       " 14643.0,\n",
       " 14366.0,\n",
       " 2607.0,\n",
       " 7538.0,\n",
       " 9137.0,\n",
       " 13843.0,\n",
       " 12576.0,\n",
       " 6129.0,\n",
       " 11036.0,\n",
       " 13258.0,\n",
       " 12607.0,\n",
       " 9452.0,\n",
       " 3192.0,\n",
       " 7218.0,\n",
       " 8323.0,\n",
       " 7385.0,\n",
       " 12073.0,\n",
       " 12636.0,\n",
       " 16975.0,\n",
       " 8262.0,\n",
       " 4975.0,\n",
       " 5688.0,\n",
       " 6738.0,\n",
       " 6932.0,\n",
       " 7512.0,\n",
       " 6424.0,\n",
       " 6488.0,\n",
       " 8822.0,\n",
       " 5239.0,\n",
       " 16304.0,\n",
       " 14017.0,\n",
       " 4493.0,\n",
       " 12083.0,\n",
       " 7414.0,\n",
       " 6831.0,\n",
       " 7884.0,\n",
       " 8295.0,\n",
       " 12668.0,\n",
       " 8078.0,\n",
       " 6683.0,\n",
       " 8287.0,\n",
       " 11397.0,\n",
       " 5696.0,\n",
       " 9580.0,\n",
       " 5318.0,\n",
       " 10982.0,\n",
       " 16433.0,\n",
       " 3751.0,\n",
       " 4410.0,\n",
       " 4963.0,\n",
       " 4410.0,\n",
       " 4231.0,\n",
       " 15431.0,\n",
       " 7350.0,\n",
       " 4036.0,\n",
       " 6889.0,\n",
       " 8995.0,\n",
       " 6329.0,\n",
       " 5325.0,\n",
       " 6752.0,\n",
       " 10657.0,\n",
       " 8088.0,\n",
       " 5395.0,\n",
       " 16653.0,\n",
       " 7973.0,\n",
       " 7497.0,\n",
       " 12866.0,\n",
       " 1778.0,\n",
       " 3212.0,\n",
       " 10479.0,\n",
       " 7151.0,\n",
       " 5281.0,\n",
       " 1984.0,\n",
       " 5640.0,\n",
       " 1268.0,\n",
       " 15514.0,\n",
       " 4674.0,\n",
       " 6254.0,\n",
       " 18892.0,\n",
       " 15287.0,\n",
       " 3963.0,\n",
       " 2528.0,\n",
       " 8914.0,\n",
       " 12019.0,\n",
       " 6676.0,\n",
       " 6217.0,\n",
       " 6687.0,\n",
       " 13625.0,\n",
       " 14909.0,\n",
       " 13913.0,\n",
       " 8509.0,\n",
       " 19843.0,\n",
       " 12578.0,\n",
       " 4417.0,\n",
       " 8280.0,\n",
       " 9976.0,\n",
       " 15607.0,\n",
       " 5861.0,\n",
       " 15912.0,\n",
       " 16012.0,\n",
       " 14682.0,\n",
       " 13661.0,\n",
       " 5829.0,\n",
       " 15391.0,\n",
       " 6964.0,\n",
       " 12069.0,\n",
       " 7627.0,\n",
       " 13663.0,\n",
       " 8398.0,\n",
       " 15607.0,\n",
       " 7662.0,\n",
       " 4930.0,\n",
       " 6167.0,\n",
       " 11135.0,\n",
       " 2996.0,\n",
       " 13292.0,\n",
       " 14330.0,\n",
       " 7510.0,\n",
       " 7166.0,\n",
       " 13549.0,\n",
       " 5296.0,\n",
       " 3141.0,\n",
       " 3678.0,\n",
       " 1900.0,\n",
       " 8903.0,\n",
       " 11394.0,\n",
       " 5241.0,\n",
       " 5815.0,\n",
       " 14571.0,\n",
       " 11729.0,\n",
       " 12867.0,\n",
       " 14409.0,\n",
       " 4581.0,\n",
       " 7583.0,\n",
       " 6034.0,\n",
       " 5721.0,\n",
       " 7265.0,\n",
       " 7405.0,\n",
       " 8702.0,\n",
       " 9767.0,\n",
       " 10142.0,\n",
       " 583.0,\n",
       " 7437.0,\n",
       " 7352.0,\n",
       " 6962.0,\n",
       " 17826.0,\n",
       " 7735.0,\n",
       " 11730.0,\n",
       " 9945.0,\n",
       " 6694.0,\n",
       " 9071.0,\n",
       " 3009.0,\n",
       " 4062.0,\n",
       " 6575.0,\n",
       " 12866.0,\n",
       " 5965.0,\n",
       " 7943.0,\n",
       " 6373.0,\n",
       " 11338.0,\n",
       " 14056.0,\n",
       " 13002.0,\n",
       " 13967.0,\n",
       " 7578.0,\n",
       " 9893.0,\n",
       " 8557.0,\n",
       " 15234.0,\n",
       " 5672.0,\n",
       " 6933.0,\n",
       " 18741.0,\n",
       " 10757.0,\n",
       " 7257.0,\n",
       " 6375.0,\n",
       " 5028.0,\n",
       " 12801.0,\n",
       " 5436.0,\n",
       " 7566.0,\n",
       " 6596.0,\n",
       " 7940.0,\n",
       " 6790.0,\n",
       " 12758.0,\n",
       " 6334.0,\n",
       " 12100.0,\n",
       " 18080.0,\n",
       " 4810.0,\n",
       " 6702.0,\n",
       " 6331.0,\n",
       " 8935.0,\n",
       " 4924.0,\n",
       " 6370.0,\n",
       " 5328.0,\n",
       " 7950.0,\n",
       " 8325.0,\n",
       " 7565.0,\n",
       " 8812.0,\n",
       " 4557.0,\n",
       " 6223.0,\n",
       " 8576.0,\n",
       " 5774.0,\n",
       " 2314.0,\n",
       " 10546.0,\n",
       " 16286.0,\n",
       " 12937.0,\n",
       " 6344.0,\n",
       " 8691.0,\n",
       " 7176.0,\n",
       " 2958.0,\n",
       " 7356.0,\n",
       " 6593.0,\n",
       " 22248.0,\n",
       " 8205.0,\n",
       " 14783.0,\n",
       " 10640.0,\n",
       " 12532.0,\n",
       " 5824.0,\n",
       " 12742.0,\n",
       " 5626.0,\n",
       " 8401.0,\n",
       " 8367.0,\n",
       " 6289.0,\n",
       " 10195.0,\n",
       " 9148.0,\n",
       " 6426.0,\n",
       " 6916.0,\n",
       " 7711.0,\n",
       " 14338.0,\n",
       " 8110.0,\n",
       " 7150.0,\n",
       " 2279.0,\n",
       " 7800.0,\n",
       " 7456.0,\n",
       " 6955.0,\n",
       " 12428.0,\n",
       " 5573.0,\n",
       " 5218.0,\n",
       " 6845.0,\n",
       " 5274.0,\n",
       " 5866.0,\n",
       " 4284.0,\n",
       " 7275.0,\n",
       " 4938.0,\n",
       " 6890.0,\n",
       " 10029.0,\n",
       " 7182.0,\n",
       " 10925.0,\n",
       " 16389.0,\n",
       " 15025.0,\n",
       " 6588.0,\n",
       " 5179.0,\n",
       " 11716.0,\n",
       " 12038.0,\n",
       " 5039.0,\n",
       " 6833.0,\n",
       " 8664.0,\n",
       " 4115.0,\n",
       " 6396.0,\n",
       " 6601.0,\n",
       " 15348.0,\n",
       " 13435.0,\n",
       " 5194.0,\n",
       " 12029.0,\n",
       " 3440.0,\n",
       " 7583.0,\n",
       " 9613.0,\n",
       " 5594.0,\n",
       " 2964.0,\n",
       " 5733.0,\n",
       " 5594.0,\n",
       " 3651.0,\n",
       " 12840.0,\n",
       " 8019.0,\n",
       " 9439.0,\n",
       " 7107.0,\n",
       " 8184.0,\n",
       " 10689.0,\n",
       " 2876.0,\n",
       " 7035.0,\n",
       " 3539.0,\n",
       " 19657.0,\n",
       " 7250.0,\n",
       " 7142.0,\n",
       " 4327.0,\n",
       " 10251.0,\n",
       " 4815.0,\n",
       " 10039.0,\n",
       " 17778.0,\n",
       " 7612.0,\n",
       " 11717.0,\n",
       " 13180.0,\n",
       " 15554.0,\n",
       " 5640.0,\n",
       " 6297.0,\n",
       " 12213.0,\n",
       " 5976.0,\n",
       " 12072.0,\n",
       " 14491.0,\n",
       " 4384.0,\n",
       " 6146.0,\n",
       " 7776.0,\n",
       " 7586.0,\n",
       " 4429.0,\n",
       " 16278.0,\n",
       " 12813.0,\n",
       " 6104.0,\n",
       " 12148.0,\n",
       " 10619.0,\n",
       " 11642.0,\n",
       " 803.0,\n",
       " 6810.0,\n",
       " 7164.0,\n",
       " 6477.0,\n",
       " 6312.0,\n",
       " 12061.0,\n",
       " 6861.0,\n",
       " 12112.0,\n",
       " 7366.0,\n",
       " 10007.0,\n",
       " 12685.0,\n",
       " 5463.0,\n",
       " 7381.0,\n",
       " 5009.0,\n",
       " 2424.0,\n",
       " 6305.0,\n",
       " 9092.0,\n",
       " 6388.0,\n",
       " 7118.0,\n",
       " 7196.0,\n",
       " 1111.0,\n",
       " 8359.0,\n",
       " 15868.0,\n",
       " 6791.0,\n",
       " 8340.0,\n",
       " 3089.0,\n",
       " 5982.0,\n",
       " 7427.0,\n",
       " 6062.0,\n",
       " 6771.0,\n",
       " 10218.0,\n",
       " 18634.0,\n",
       " 8127.0,\n",
       " 5468.0,\n",
       " 16362.0,\n",
       " 3741.0,\n",
       " 6719.0,\n",
       " 4847.0,\n",
       " 6466.0,\n",
       " 6655.0,\n",
       " 8091.0,\n",
       " 7643.0,\n",
       " 5288.0,\n",
       " 14733.0,\n",
       " 5882.0,\n",
       " 9485.0,\n",
       " 7154.0,\n",
       " 12686.0,\n",
       " 12686.0,\n",
       " 13261.0,\n",
       " 17118.0,\n",
       " 11739.0,\n",
       " 1440.0,\n",
       " 13563.0,\n",
       " 6529.0,\n",
       " 13812.0,\n",
       " 5297.0,\n",
       " 8209.0,\n",
       " 7058.0,\n",
       " 8302.0,\n",
       " 6165.0,\n",
       " 13987.0,\n",
       " 6461.0,\n",
       " 5939.0,\n",
       " 16914.0,\n",
       " 14993.0,\n",
       " 833.0,\n",
       " 15618.0,\n",
       " 4828.0,\n",
       " 17857.0,\n",
       " 12521.0,\n",
       " 16528.0,\n",
       " 6692.0,\n",
       " 14392.0,\n",
       " 4383.0,\n",
       " 6894.0,\n",
       " 5095.0,\n",
       " 7123.0,\n",
       " 4664.0,\n",
       " 7940.0,\n",
       " 14371.0,\n",
       " 6417.0,\n",
       " 16281.0,\n",
       " 6983.0,\n",
       " 14783.0,\n",
       " 4402.0,\n",
       " 11744.0,\n",
       " 3972.0,\n",
       " 6768.0,\n",
       " 6112.0,\n",
       " 12672.0,\n",
       " 9432.0,\n",
       " 18067.0,\n",
       " 5336.0,\n",
       " 5627.0,\n",
       " 12463.0,\n",
       " 9551.0,\n",
       " 6519.0,\n",
       " 6245.0,\n",
       " 9004.0,\n",
       " 4105.0,\n",
       " 8099.0,\n",
       " 13688.0,\n",
       " 7153.0,\n",
       " 6554.0,\n",
       " 12686.0,\n",
       " 13270.0,\n",
       " 8634.0,\n",
       " 6761.0,\n",
       " 12785.0,\n",
       " 5917.0,\n",
       " 7806.0,\n",
       " 5664.0,\n",
       " 6877.0,\n",
       " 4670.0,\n",
       " 6416.0,\n",
       " 14971.0,\n",
       " 9383.0,\n",
       " 11281.0,\n",
       " 7402.0,\n",
       " 9834.0,\n",
       " 19152.0,\n",
       " 14500.0,\n",
       " 14811.0,\n",
       " 5614.0,\n",
       " 12836.0,\n",
       " 6707.0,\n",
       " 13325.0,\n",
       " 16447.0,\n",
       " 15608.0,\n",
       " 6185.0,\n",
       " 15179.0,\n",
       " 14758.0,\n",
       " 14055.0,\n",
       " 2641.0,\n",
       " 11292.0,\n",
       " 7336.0,\n",
       " 10280.0,\n",
       " 5776.0,\n",
       " 7384.0,\n",
       " 6535.0,\n",
       " 3985.0,\n",
       " 7039.0,\n",
       " 9839.0,\n",
       " 4767.0,\n",
       " 8784.0,\n",
       " 13930.0,\n",
       " 7146.0,\n",
       " 7844.0,\n",
       " 2334.0,\n",
       " 12517.0,\n",
       " 18184.0,\n",
       " 8155.0,\n",
       " 6400.0,\n",
       " 15769.0,\n",
       " 6854.0,\n",
       " 5193.0,\n",
       " 3962.0,\n",
       " 12158.0,\n",
       " 6514.0,\n",
       " 5436.0,\n",
       " 11469.0,\n",
       " 6328.0,\n",
       " 6663.0,\n",
       " 1373.0,\n",
       " 7854.0,\n",
       " 12747.0,\n",
       " 11059.0,\n",
       " 4071.0,\n",
       " 8341.0,\n",
       " 3992.0,\n",
       " 20006.0,\n",
       " 10129.0,\n",
       " 11784.0,\n",
       " 14000.0,\n",
       " 6264.0,\n",
       " 7168.0,\n",
       " 5359.0,\n",
       " 7299.0,\n",
       " 12920.0,\n",
       " 13935.0,\n",
       " 9511.0,\n",
       " 6628.0,\n",
       " 4118.0,\n",
       " 16010.0,\n",
       " 5357.0,\n",
       " 13346.0,\n",
       " 14523.0,\n",
       " 6449.0,\n",
       " 14017.0,\n",
       " 6940.0,\n",
       " 7184.0,\n",
       " 6493.0,\n",
       " 16731.0,\n",
       " 7604.0,\n",
       " 3384.0,\n",
       " 7550.0,\n",
       " 7564.0,\n",
       " 6350.0,\n",
       " 12087.0,\n",
       " 12887.0,\n",
       " 9781.0,\n",
       " 13211.0,\n",
       " 14875.0,\n",
       " 8730.0,\n",
       " 17168.0,\n",
       " 10936.0,\n",
       " 5973.0,\n",
       " 14726.0,\n",
       " 15186.0,\n",
       " 4940.0,\n",
       " 4970.0,\n",
       " 6194.0,\n",
       " 4302.0,\n",
       " 12432.0,\n",
       " 11715.0,\n",
       " 7311.0,\n",
       " 7828.0,\n",
       " 18155.0,\n",
       " 6306.0,\n",
       " 4235.0,\n",
       " 8705.0,\n",
       " 16465.0,\n",
       " 5517.0,\n",
       " 4819.0,\n",
       " 14028.0,\n",
       " 9296.0,\n",
       " 10619.0,\n",
       " 7597.0,\n",
       " 6269.0,\n",
       " 7914.0,\n",
       " 5041.0,\n",
       " 7635.0,\n",
       " 11471.0,\n",
       " 6670.0,\n",
       " 3882.0,\n",
       " 6966.0,\n",
       " 6199.0,\n",
       " 11334.0,\n",
       " 8034.0,\n",
       " 9479.0,\n",
       " 11475.0,\n",
       " 10535.0,\n",
       " 7004.0,\n",
       " 16005.0,\n",
       " 9150.0,\n",
       " 4097.0,\n",
       " 16191.0,\n",
       " ...]"
      ]
     },
     "execution_count": 89,
     "metadata": {},
     "output_type": "execute_result"
    }
   ],
   "source": [
    "predictions2 "
   ]
  },
  {
   "cell_type": "code",
   "execution_count": 90,
   "metadata": {},
   "outputs": [
    {
     "data": {
      "text/plain": [
       "0          8370\n",
       "1         15200\n",
       "2          1422\n",
       "3          1057\n",
       "4          7969\n",
       "5         15227\n",
       "6         19215\n",
       "7         15854\n",
       "8         15686\n",
       "9          7871\n",
       "10         5254\n",
       "11         3957\n",
       "12         6073\n",
       "13        15665\n",
       "14         5378\n",
       "15         2079\n",
       "16        13055\n",
       "17         8851\n",
       "18        11788\n",
       "19        19614\n",
       "20         8584\n",
       "21         9872\n",
       "22         9743\n",
       "23         5982\n",
       "24        11927\n",
       "25        16662\n",
       "26         5887\n",
       "27         6973\n",
       "28         5391\n",
       "29        16352\n",
       "          ...  \n",
       "550038      596\n",
       "550039      595\n",
       "550040       26\n",
       "550041      488\n",
       "550042      243\n",
       "550043       48\n",
       "550044       62\n",
       "550045      252\n",
       "550046      236\n",
       "550047      244\n",
       "550048      591\n",
       "550049      473\n",
       "550050      368\n",
       "550051      489\n",
       "550052      239\n",
       "550053      371\n",
       "550054       60\n",
       "550055      238\n",
       "550056      254\n",
       "550057       61\n",
       "550058      121\n",
       "550059       48\n",
       "550060      494\n",
       "550061      599\n",
       "550062      473\n",
       "550063      368\n",
       "550064      371\n",
       "550065      137\n",
       "550066      365\n",
       "550067      490\n",
       "Name: Purchase, Length: 550068, dtype: int64"
      ]
     },
     "execution_count": 90,
     "metadata": {},
     "output_type": "execute_result"
    }
   ],
   "source": [
    "Ytrain"
   ]
  },
  {
   "cell_type": "code",
   "execution_count": 91,
   "metadata": {},
   "outputs": [
    {
     "name": "stdout",
     "output_type": "stream",
     "text": [
      "99.99999951401722 %\n"
     ]
    }
   ],
   "source": [
    "print(\"Accuracy of the Random forest algorthim {0} %\".format(model.score(Xtest,predictions2)*100))"
   ]
  },
  {
   "cell_type": "code",
   "execution_count": 92,
   "metadata": {},
   "outputs": [],
   "source": [
    "#Here we will apply linear Model\n",
    "from sklearn import linear_model"
   ]
  },
  {
   "cell_type": "code",
   "execution_count": 93,
   "metadata": {},
   "outputs": [],
   "source": [
    "#linear regression\n",
    "reg=linear_model.LinearRegression()"
   ]
  },
  {
   "cell_type": "code",
   "execution_count": 94,
   "metadata": {},
   "outputs": [
    {
     "data": {
      "text/plain": [
       "LinearRegression(copy_X=True, fit_intercept=True, n_jobs=None,\n",
       "         normalize=False)"
      ]
     },
     "execution_count": 94,
     "metadata": {},
     "output_type": "execute_result"
    }
   ],
   "source": [
    "reg.fit(Xtrain,Ytrain)"
   ]
  },
  {
   "cell_type": "code",
   "execution_count": 95,
   "metadata": {},
   "outputs": [],
   "source": [
    "#This is the predictions that we predicted from ourtest data\n",
    "predictions3 = reg.predict(Xtest)"
   ]
  },
  {
   "cell_type": "code",
   "execution_count": 96,
   "metadata": {},
   "outputs": [],
   "source": [
    "predictions4 = [round(x) for x in predictions3]"
   ]
  },
  {
   "cell_type": "code",
   "execution_count": 97,
   "metadata": {},
   "outputs": [
    {
     "name": "stdout",
     "output_type": "stream",
     "text": [
      "99.99999722925406 %\n"
     ]
    }
   ],
   "source": [
    "print(\"{0} %\".format(reg.score(Xtest,predictions4)*100))"
   ]
  },
  {
   "cell_type": "code",
   "execution_count": 98,
   "metadata": {},
   "outputs": [],
   "source": [
    "#Now we make our new data frame\n",
    "submissions=pd.DataFrame()"
   ]
  },
  {
   "cell_type": "code",
   "execution_count": 99,
   "metadata": {},
   "outputs": [],
   "source": [
    "#Assign our Test Data columns to a new Data Frame that will predict the Purchases \n",
    "submissions[['User_ID','Product_ID','Gender','Age','Occupation','City_Category','Stay_In_Current_City_Years','Marital_Status','Product_Category_1','Product_Category_2','Product_Category_3']]=Xtest"
   ]
  },
  {
   "cell_type": "code",
   "execution_count": 100,
   "metadata": {},
   "outputs": [],
   "source": [
    "#Assign all predictions of test Data to the new Data frame\n",
    "submissions['Purchase']=predictions2"
   ]
  },
  {
   "cell_type": "code",
   "execution_count": 101,
   "metadata": {},
   "outputs": [
    {
     "data": {
      "text/html": [
       "<div>\n",
       "<style scoped>\n",
       "    .dataframe tbody tr th:only-of-type {\n",
       "        vertical-align: middle;\n",
       "    }\n",
       "\n",
       "    .dataframe tbody tr th {\n",
       "        vertical-align: top;\n",
       "    }\n",
       "\n",
       "    .dataframe thead th {\n",
       "        text-align: right;\n",
       "    }\n",
       "</style>\n",
       "<table border=\"1\" class=\"dataframe\">\n",
       "  <thead>\n",
       "    <tr style=\"text-align: right;\">\n",
       "      <th></th>\n",
       "      <th>User_ID</th>\n",
       "      <th>Product_ID</th>\n",
       "      <th>Gender</th>\n",
       "      <th>Age</th>\n",
       "      <th>Occupation</th>\n",
       "      <th>City_Category</th>\n",
       "      <th>Stay_In_Current_City_Years</th>\n",
       "      <th>Marital_Status</th>\n",
       "      <th>Product_Category_1</th>\n",
       "      <th>Product_Category_2</th>\n",
       "      <th>Product_Category_3</th>\n",
       "      <th>Purchase</th>\n",
       "    </tr>\n",
       "  </thead>\n",
       "  <tbody>\n",
       "    <tr>\n",
       "      <th>0</th>\n",
       "      <td>1000004</td>\n",
       "      <td>1144</td>\n",
       "      <td>0</td>\n",
       "      <td>4</td>\n",
       "      <td>7</td>\n",
       "      <td>1</td>\n",
       "      <td>2</td>\n",
       "      <td>1</td>\n",
       "      <td>1</td>\n",
       "      <td>11.0</td>\n",
       "      <td>9.0</td>\n",
       "      <td>14475.0</td>\n",
       "    </tr>\n",
       "    <tr>\n",
       "      <th>1</th>\n",
       "      <td>1000009</td>\n",
       "      <td>994</td>\n",
       "      <td>0</td>\n",
       "      <td>2</td>\n",
       "      <td>17</td>\n",
       "      <td>2</td>\n",
       "      <td>0</td>\n",
       "      <td>0</td>\n",
       "      <td>3</td>\n",
       "      <td>5.0</td>\n",
       "      <td>9.0</td>\n",
       "      <td>10742.0</td>\n",
       "    </tr>\n",
       "    <tr>\n",
       "      <th>2</th>\n",
       "      <td>1000010</td>\n",
       "      <td>2672</td>\n",
       "      <td>1</td>\n",
       "      <td>3</td>\n",
       "      <td>1</td>\n",
       "      <td>1</td>\n",
       "      <td>4</td>\n",
       "      <td>1</td>\n",
       "      <td>5</td>\n",
       "      <td>14.0</td>\n",
       "      <td>9.0</td>\n",
       "      <td>4069.0</td>\n",
       "    </tr>\n",
       "    <tr>\n",
       "      <th>3</th>\n",
       "      <td>1000010</td>\n",
       "      <td>1299</td>\n",
       "      <td>1</td>\n",
       "      <td>3</td>\n",
       "      <td>1</td>\n",
       "      <td>1</td>\n",
       "      <td>4</td>\n",
       "      <td>1</td>\n",
       "      <td>4</td>\n",
       "      <td>9.0</td>\n",
       "      <td>9.0</td>\n",
       "      <td>1994.0</td>\n",
       "    </tr>\n",
       "    <tr>\n",
       "      <th>4</th>\n",
       "      <td>1000011</td>\n",
       "      <td>519</td>\n",
       "      <td>1</td>\n",
       "      <td>2</td>\n",
       "      <td>1</td>\n",
       "      <td>2</td>\n",
       "      <td>1</td>\n",
       "      <td>0</td>\n",
       "      <td>4</td>\n",
       "      <td>5.0</td>\n",
       "      <td>12.0</td>\n",
       "      <td>2719.0</td>\n",
       "    </tr>\n",
       "  </tbody>\n",
       "</table>\n",
       "</div>"
      ],
      "text/plain": [
       "   User_ID  Product_ID  Gender  Age  Occupation  City_Category  \\\n",
       "0  1000004        1144       0    4           7              1   \n",
       "1  1000009         994       0    2          17              2   \n",
       "2  1000010        2672       1    3           1              1   \n",
       "3  1000010        1299       1    3           1              1   \n",
       "4  1000011         519       1    2           1              2   \n",
       "\n",
       "  Stay_In_Current_City_Years  Marital_Status  Product_Category_1  \\\n",
       "0                          2               1                   1   \n",
       "1                          0               0                   3   \n",
       "2                          4               1                   5   \n",
       "3                          4               1                   4   \n",
       "4                          1               0                   4   \n",
       "\n",
       "   Product_Category_2  Product_Category_3  Purchase  \n",
       "0                11.0                 9.0   14475.0  \n",
       "1                 5.0                 9.0   10742.0  \n",
       "2                14.0                 9.0    4069.0  \n",
       "3                 9.0                 9.0    1994.0  \n",
       "4                 5.0                12.0    2719.0  "
      ]
     },
     "execution_count": 101,
     "metadata": {},
     "output_type": "execute_result"
    }
   ],
   "source": [
    "submissions.head()"
   ]
  },
  {
   "cell_type": "code",
   "execution_count": 102,
   "metadata": {},
   "outputs": [
    {
     "data": {
      "text/plain": [
       "(233599, 12)"
      ]
     },
     "execution_count": 102,
     "metadata": {},
     "output_type": "execute_result"
    }
   ],
   "source": [
    "submissions.shape"
   ]
  },
  {
   "cell_type": "code",
   "execution_count": 103,
   "metadata": {},
   "outputs": [
    {
     "name": "stdout",
     "output_type": "stream",
     "text": [
      "Random forest accuracy is 99.99999951401722 %\n"
     ]
    }
   ],
   "source": [
    "print(\"Random forest accuracy is {0} %\".format(model.score(Xtest,predictions2)*100))"
   ]
  },
  {
   "cell_type": "code",
   "execution_count": 104,
   "metadata": {},
   "outputs": [
    {
     "name": "stdout",
     "output_type": "stream",
     "text": [
      "Linear Regression accuracy is 99.99999722925406 %\n"
     ]
    }
   ],
   "source": [
    "print(\"Linear Regression accuracy is {0} %\".format(reg.score(Xtest,predictions4)*100))"
   ]
  },
  {
   "cell_type": "code",
   "execution_count": 105,
   "metadata": {},
   "outputs": [],
   "source": [
    "submissions.to_csv('BlackFridaySubmissions.csv')"
   ]
  },
  {
   "cell_type": "code",
   "execution_count": 106,
   "metadata": {},
   "outputs": [
    {
     "data": {
      "text/plain": [
       "KNeighborsClassifier(algorithm='auto', leaf_size=30, metric='minkowski',\n",
       "           metric_params=None, n_jobs=None, n_neighbors=5, p=2,\n",
       "           weights='uniform')"
      ]
     },
     "execution_count": 106,
     "metadata": {},
     "output_type": "execute_result"
    }
   ],
   "source": [
    "#Here we will apply KNN algorthim\n",
    "from sklearn.neighbors import KNeighborsClassifier\n",
    "classifier = KNeighborsClassifier(n_neighbors=5)\n",
    "classifier.fit(Xtrain, Ytrain)"
   ]
  },
  {
   "cell_type": "code",
   "execution_count": 107,
   "metadata": {},
   "outputs": [],
   "source": [
    "predictions5 = classifier.predict(Xtest)"
   ]
  },
  {
   "cell_type": "code",
   "execution_count": 108,
   "metadata": {},
   "outputs": [],
   "source": [
    "predictions6 = [round(x) for x in predictions5]"
   ]
  },
  {
   "cell_type": "code",
   "execution_count": 114,
   "metadata": {},
   "outputs": [
    {
     "name": "stdout",
     "output_type": "stream",
     "text": [
      "100.0 %\n"
     ]
    }
   ],
   "source": [
    "print(\"{0} %\".format(classifier.score(Xtest,predictions6)*100))"
   ]
  },
  {
   "cell_type": "code",
   "execution_count": null,
   "metadata": {},
   "outputs": [],
   "source": []
  }
 ],
 "metadata": {
  "kernelspec": {
   "display_name": "Python 3",
   "language": "python",
   "name": "python3"
  },
  "language_info": {
   "codemirror_mode": {
    "name": "ipython",
    "version": 3
   },
   "file_extension": ".py",
   "mimetype": "text/x-python",
   "name": "python",
   "nbconvert_exporter": "python",
   "pygments_lexer": "ipython3",
   "version": "3.7.3"
  }
 },
 "nbformat": 4,
 "nbformat_minor": 2
}
